{
 "cells": [
  {
   "cell_type": "code",
   "execution_count": 1,
   "metadata": {},
   "outputs": [
    {
     "name": "stderr",
     "output_type": "stream",
     "text": [
      "/usr/lib/python3.10/site-packages/tqdm/auto.py:22: TqdmWarning: IProgress not found. Please update jupyter and ipywidgets. See https://ipywidgets.readthedocs.io/en/stable/user_install.html\n",
      "  from .autonotebook import tqdm as notebook_tqdm\n"
     ]
    }
   ],
   "source": [
    "import datasets\n",
    "import matplotlib as plt\n",
    "import tokenize\n",
    "import transformers\n",
    "from typing import Union\n",
    "import numpy as np"
   ]
  },
  {
   "cell_type": "code",
   "execution_count": 2,
   "metadata": {},
   "outputs": [
    {
     "name": "stderr",
     "output_type": "stream",
     "text": [
      "Using custom data configuration default-0c63ba6e2e28f3b2\n",
      "Reusing dataset json (/home/liam/.cache/huggingface/datasets/json/default-0c63ba6e2e28f3b2/0.0.0/a3e658c4731e59120d44081ac10bf85dc7e1388126b92338344ce9661907f253)\n",
      "100%|██████████| 3/3 [00:00<00:00, 56.24it/s]\n"
     ]
    }
   ],
   "source": [
    "\n",
    "# Load the data from the policyqa folder\n",
    "dataset = datasets.load_dataset('json', data_files={'train': 'policyqa/train.json', 'dev': 'policyqa/dev.json', 'test': 'policyqa/test.json'}, field='data') \n"
   ]
  },
  {
   "cell_type": "code",
   "execution_count": 3,
   "metadata": {},
   "outputs": [
    {
     "name": "stdout",
     "output_type": "stream",
     "text": [
      "{'context': 'create and deliver personalized promotions, including by combining your Personal Information with Other Information, such as the amounts and types of bookings or itineraries you make and discounts or benefits you use', 'index': 11, 'qas': [{'answers': [{'answer_start': 67, 'text': 'your Personal Information'}], 'id': 'wo1uc0blyt1k5tsx', 'question': 'What type of information about me does the website collect?', 'type': 'First Party Collection/Use|||Personal Information Type|||Generic personal information'}, {'answers': [{'answer_start': 0, 'text': 'create and deliver personalized promotions'}], 'id': 'vycw7xem04dd090w', 'question': 'For what purpose do you use my data?', 'type': 'First Party Collection/Use|||Purpose|||Basic service/feature'}, {'answers': [{'answer_start': 57, 'text': 'combining your Personal Information with Other Information'}], 'id': '78981ujzwheh9wvj', 'question': 'Does the company collect my personal information?', 'type': 'First Party Collection/Use|||Personal Information Type|||Other'}, {'answers': [{'answer_start': 0, 'text': 'create and deliver personalized promotions'}], 'id': '7ccp9n9ixa0l0403', 'question': 'Will they use the data collected from me?', 'type': 'First Party Collection/Use|||Does/Does Not|||Does'}, {'answers': [{'answer_start': 0, 'text': 'create and deliver personalized promotions'}], 'id': 'nbx18kgyk68hsenj', 'question': 'Will you use my information for marketing or promotional services?', 'type': 'First Party Collection/Use|||Purpose|||Marketing'}, {'answers': [{'answer_start': 98, 'text': 'Other Information, such as the amounts and types of bookings or itineraries you make and discounts or benefits you use'}], 'id': 'm2esd7lf0zstp6kn', 'question': 'What types of user profile information does the company collect?', 'type': 'First Party Collection/Use|||Personal Information Type|||User profile'}], 'summary': ['The site collects your generic personal information for a basic service or feature. Collection happens in an unspecified way.', 'The site collects your unspecified information for advertising. Collection happens in an unspecified way.', 'The site collects your user profile for a basic service or feature. Collection happens in an unspecified way.', 'The site collects an information type outside of our label scheme for marketing purposes. Collection happens in an unspecified way.']}\n",
      "dict_keys(['title', 'paragraphs'])\n"
     ]
    }
   ],
   "source": [
    "# print the keys of the training dataset\n",
    "print(dataset['test'][0]['paragraphs'][10:11][0])\n",
    "print(dataset['test'][0].keys())"
   ]
  },
  {
   "cell_type": "code",
   "execution_count": 4,
   "metadata": {},
   "outputs": [],
   "source": [
    "def make_dataset_use_entire_document_as_context(row):\n",
    "    \"\"\"\n",
    "    Convert the paragraphs into documents by:\n",
    "    1. Iteratre over each paragraph in the document (supplied row)\n",
    "    2. Concatenate all of the paragraphs' contexts together to form a single document\n",
    "    3. Update the 'context' field of each paragraph to be the document\n",
    "    4. Update the start of each answer to be the start of the answer in the document\n",
    "    :param row: a row from the dataset representing a single document\n",
    "    :return: the updated dataset.\n",
    "    \"\"\"\n",
    "    \n",
    "    # join all of the contexts together to form a single document, separating each with a newline\n",
    "    entire_document = '\\n'.join([paragraph['context'] for paragraph in row['paragraphs']])\n",
    "\n",
    "    # the offset relative to the start of the document\n",
    "    context_offset = 0 \n",
    "\n",
    "    for paragraph in row['paragraphs']:\n",
    "        original_context = paragraph['context']\n",
    "        paragraph['context'] = entire_document\n",
    "        for qa in paragraph['qas']:\n",
    "            for answer in qa['answers']:\n",
    "                answer['answer_start'] += context_offset\n",
    "\n",
    "        # update the context offset for the next paragraph\n",
    "        context_offset += len(original_context) + 1 # +1 for the newline character\n",
    "\n",
    "    return row\n",
    "\n",
    "\n",
    "def check_answer_offsets(row):\n",
    "    \"\"\"\n",
    "    Check that the answer offsets are correct\n",
    "    :param row: a row from the dataset representing a single document\n",
    "    :return: Nothing\n",
    "    \"\"\"\n",
    "    for paragraph in row['paragraphs']:\n",
    "        for qa in paragraph['qas']:\n",
    "            for answer in qa['answers']:\n",
    "                start = answer['answer_start']\n",
    "                selected_from_context = paragraph['context'][start:start + len(answer['text'])]\n",
    "                actual_text = answer['text']\n",
    "                assert selected_from_context == actual_text, f\"Expected {actual_text} but got {selected_from_context}\"\n"
   ]
  },
  {
   "cell_type": "code",
   "execution_count": 5,
   "metadata": {},
   "outputs": [
    {
     "name": "stderr",
     "output_type": "stream",
     "text": [
      "Loading cached processed dataset at /home/liam/.cache/huggingface/datasets/json/default-0c63ba6e2e28f3b2/0.0.0/a3e658c4731e59120d44081ac10bf85dc7e1388126b92338344ce9661907f253/cache-65abccdedecce8d4.arrow\n",
      "Loading cached processed dataset at /home/liam/.cache/huggingface/datasets/json/default-0c63ba6e2e28f3b2/0.0.0/a3e658c4731e59120d44081ac10bf85dc7e1388126b92338344ce9661907f253/cache-582e8398e77ad788.arrow\n",
      "Loading cached processed dataset at /home/liam/.cache/huggingface/datasets/json/default-0c63ba6e2e28f3b2/0.0.0/a3e658c4731e59120d44081ac10bf85dc7e1388126b92338344ce9661907f253/cache-11c106718e48addd.arrow\n",
      "100%|██████████| 75/75 [00:01<00:00, 57.60ex/s]\n",
      "100%|██████████| 20/20 [00:00<00:00, 58.12ex/s]\n",
      "100%|██████████| 20/20 [00:00<00:00, 70.56ex/s]\n"
     ]
    },
    {
     "data": {
      "text/plain": [
       "DatasetDict({\n",
       "    train: Dataset({\n",
       "        features: ['title', 'paragraphs'],\n",
       "        num_rows: 75\n",
       "    })\n",
       "    dev: Dataset({\n",
       "        features: ['title', 'paragraphs'],\n",
       "        num_rows: 20\n",
       "    })\n",
       "    test: Dataset({\n",
       "        features: ['title', 'paragraphs'],\n",
       "        num_rows: 20\n",
       "    })\n",
       "})"
      ]
     },
     "execution_count": 5,
     "metadata": {},
     "output_type": "execute_result"
    }
   ],
   "source": [
    "long_dataset = dataset.map(make_dataset_use_entire_document_as_context)\n",
    "\n",
    "long_dataset.map(check_answer_offsets)\n"
   ]
  },
  {
   "cell_type": "code",
   "execution_count": 6,
   "metadata": {},
   "outputs": [
    {
     "ename": "TypeError",
     "evalue": "<module '__main__'> is a built-in module",
     "output_type": "error",
     "traceback": [
      "\u001b[0;31m---------------------------------------------------------------------------\u001b[0m",
      "\u001b[0;31mTypeError\u001b[0m                                 Traceback (most recent call last)",
      "\u001b[1;32m/home/liam/OneDrive/Uni/2022-S2/COMPSCI-Dissertation/data/data.ipynb Cell 6\u001b[0m in \u001b[0;36m<cell line: 67>\u001b[0;34m()\u001b[0m\n\u001b[1;32m     <a href='vscode-notebook-cell:/home/liam/OneDrive/Uni/2022-S2/COMPSCI-Dissertation/data/data.ipynb#W5sZmlsZQ%3D%3D?line=53'>54</a>\u001b[0m                     \u001b[39m# Features currently used are \"context\", \"question\", and \"answers\".\u001b[39;00m\n\u001b[1;32m     <a href='vscode-notebook-cell:/home/liam/OneDrive/Uni/2022-S2/COMPSCI-Dissertation/data/data.ipynb#W5sZmlsZQ%3D%3D?line=54'>55</a>\u001b[0m                     \u001b[39m# Others are extracted here for the ease of future expansions.\u001b[39;00m\n\u001b[1;32m     <a href='vscode-notebook-cell:/home/liam/OneDrive/Uni/2022-S2/COMPSCI-Dissertation/data/data.ipynb#W5sZmlsZQ%3D%3D?line=55'>56</a>\u001b[0m                     \u001b[39myield\u001b[39;00m id_, {\n\u001b[1;32m     <a href='vscode-notebook-cell:/home/liam/OneDrive/Uni/2022-S2/COMPSCI-Dissertation/data/data.ipynb#W5sZmlsZQ%3D%3D?line=56'>57</a>\u001b[0m                         \u001b[39m\"\u001b[39m\u001b[39mtitle\u001b[39m\u001b[39m\"\u001b[39m: title,\n\u001b[1;32m     <a href='vscode-notebook-cell:/home/liam/OneDrive/Uni/2022-S2/COMPSCI-Dissertation/data/data.ipynb#W5sZmlsZQ%3D%3D?line=57'>58</a>\u001b[0m                         \u001b[39m\"\u001b[39m\u001b[39mcontext\u001b[39m\u001b[39m\"\u001b[39m: context,\n\u001b[0;32m   (...)\u001b[0m\n\u001b[1;32m     <a href='vscode-notebook-cell:/home/liam/OneDrive/Uni/2022-S2/COMPSCI-Dissertation/data/data.ipynb#W5sZmlsZQ%3D%3D?line=63'>64</a>\u001b[0m                         },\n\u001b[1;32m     <a href='vscode-notebook-cell:/home/liam/OneDrive/Uni/2022-S2/COMPSCI-Dissertation/data/data.ipynb#W5sZmlsZQ%3D%3D?line=64'>65</a>\u001b[0m                     }\n\u001b[0;32m---> <a href='vscode-notebook-cell:/home/liam/OneDrive/Uni/2022-S2/COMPSCI-Dissertation/data/data.ipynb#W5sZmlsZQ%3D%3D?line=66'>67</a>\u001b[0m wrapped_dataset \u001b[39m=\u001b[39m LongSquad(dataset)\n",
      "File \u001b[0;32m~/.local/lib/python3.10/site-packages/datasets/builder.py:1154\u001b[0m, in \u001b[0;36mGeneratorBasedBuilder.__init__\u001b[0;34m(self, writer_batch_size, *args, **kwargs)\u001b[0m\n\u001b[1;32m   1153\u001b[0m \u001b[39mdef\u001b[39;00m \u001b[39m__init__\u001b[39m(\u001b[39mself\u001b[39m, \u001b[39m*\u001b[39margs, writer_batch_size\u001b[39m=\u001b[39m\u001b[39mNone\u001b[39;00m, \u001b[39m*\u001b[39m\u001b[39m*\u001b[39mkwargs):\n\u001b[0;32m-> 1154\u001b[0m     \u001b[39msuper\u001b[39;49m()\u001b[39m.\u001b[39;49m\u001b[39m__init__\u001b[39;49m(\u001b[39m*\u001b[39;49margs, \u001b[39m*\u001b[39;49m\u001b[39m*\u001b[39;49mkwargs)\n\u001b[1;32m   1155\u001b[0m     \u001b[39m# Batch size used by the ArrowWriter\u001b[39;00m\n\u001b[1;32m   1156\u001b[0m     \u001b[39m# It defines the number of samples that are kept in memory before writing them\u001b[39;00m\n\u001b[1;32m   1157\u001b[0m     \u001b[39m# and also the length of the arrow chunks\u001b[39;00m\n\u001b[1;32m   1158\u001b[0m     \u001b[39m# None means that the ArrowWriter will use its default value\u001b[39;00m\n\u001b[1;32m   1159\u001b[0m     \u001b[39mself\u001b[39m\u001b[39m.\u001b[39m_writer_batch_size \u001b[39m=\u001b[39m writer_batch_size \u001b[39mor\u001b[39;00m \u001b[39mself\u001b[39m\u001b[39m.\u001b[39mDEFAULT_WRITER_BATCH_SIZE\n",
      "File \u001b[0;32m~/.local/lib/python3.10/site-packages/datasets/builder.py:306\u001b[0m, in \u001b[0;36mDatasetBuilder.__init__\u001b[0;34m(self, cache_dir, config_name, hash, base_path, info, features, use_auth_token, repo_id, data_files, data_dir, name, **config_kwargs)\u001b[0m\n\u001b[1;32m    303\u001b[0m \u001b[39m# prepare info: DatasetInfo are a standardized dataclass across all datasets\u001b[39;00m\n\u001b[1;32m    304\u001b[0m \u001b[39m# Prefill datasetinfo\u001b[39;00m\n\u001b[1;32m    305\u001b[0m \u001b[39mif\u001b[39;00m info \u001b[39mis\u001b[39;00m \u001b[39mNone\u001b[39;00m:\n\u001b[0;32m--> 306\u001b[0m     info \u001b[39m=\u001b[39m \u001b[39mself\u001b[39;49m\u001b[39m.\u001b[39;49mget_exported_dataset_info()\n\u001b[1;32m    307\u001b[0m     info\u001b[39m.\u001b[39mupdate(\u001b[39mself\u001b[39m\u001b[39m.\u001b[39m_info())\n\u001b[1;32m    308\u001b[0m     info\u001b[39m.\u001b[39mbuilder_name \u001b[39m=\u001b[39m \u001b[39mself\u001b[39m\u001b[39m.\u001b[39mname\n",
      "File \u001b[0;32m~/.local/lib/python3.10/site-packages/datasets/builder.py:405\u001b[0m, in \u001b[0;36mDatasetBuilder.get_exported_dataset_info\u001b[0;34m(self)\u001b[0m\n\u001b[1;32m    393\u001b[0m \u001b[39mdef\u001b[39;00m \u001b[39mget_exported_dataset_info\u001b[39m(\u001b[39mself\u001b[39m) \u001b[39m-\u001b[39m\u001b[39m>\u001b[39m DatasetInfo:\n\u001b[1;32m    394\u001b[0m     \u001b[39m\"\"\"Empty DatasetInfo if doesn't exist\u001b[39;00m\n\u001b[1;32m    395\u001b[0m \n\u001b[1;32m    396\u001b[0m \u001b[39m    Example:\u001b[39;00m\n\u001b[0;32m   (...)\u001b[0m\n\u001b[1;32m    403\u001b[0m \u001b[39m    ```\u001b[39;00m\n\u001b[1;32m    404\u001b[0m \u001b[39m    \"\"\"\u001b[39;00m\n\u001b[0;32m--> 405\u001b[0m     \u001b[39mreturn\u001b[39;00m \u001b[39mself\u001b[39;49m\u001b[39m.\u001b[39;49mget_all_exported_dataset_infos()\u001b[39m.\u001b[39mget(\u001b[39mself\u001b[39m\u001b[39m.\u001b[39mconfig\u001b[39m.\u001b[39mname, DatasetInfo())\n",
      "File \u001b[0;32m~/.local/lib/python3.10/site-packages/datasets/builder.py:388\u001b[0m, in \u001b[0;36mDatasetBuilder.get_all_exported_dataset_infos\u001b[0;34m(cls)\u001b[0m\n\u001b[1;32m    375\u001b[0m \u001b[39m@classmethod\u001b[39m\n\u001b[1;32m    376\u001b[0m \u001b[39mdef\u001b[39;00m \u001b[39mget_all_exported_dataset_infos\u001b[39m(\u001b[39mcls\u001b[39m) \u001b[39m-\u001b[39m\u001b[39m>\u001b[39m \u001b[39mdict\u001b[39m:\n\u001b[1;32m    377\u001b[0m     \u001b[39m\"\"\"Empty dict if doesn't exist\u001b[39;00m\n\u001b[1;32m    378\u001b[0m \n\u001b[1;32m    379\u001b[0m \u001b[39m    Example:\u001b[39;00m\n\u001b[0;32m   (...)\u001b[0m\n\u001b[1;32m    386\u001b[0m \u001b[39m    ```\u001b[39;00m\n\u001b[1;32m    387\u001b[0m \u001b[39m    \"\"\"\u001b[39;00m\n\u001b[0;32m--> 388\u001b[0m     dset_infos_file_path \u001b[39m=\u001b[39m os\u001b[39m.\u001b[39mpath\u001b[39m.\u001b[39mjoin(\u001b[39mcls\u001b[39;49m\u001b[39m.\u001b[39;49mget_imported_module_dir(), config\u001b[39m.\u001b[39mDATASETDICT_INFOS_FILENAME)\n\u001b[1;32m    389\u001b[0m     \u001b[39mif\u001b[39;00m os\u001b[39m.\u001b[39mpath\u001b[39m.\u001b[39mexists(dset_infos_file_path):\n\u001b[1;32m    390\u001b[0m         \u001b[39mreturn\u001b[39;00m DatasetInfosDict\u001b[39m.\u001b[39mfrom_directory(\u001b[39mcls\u001b[39m\u001b[39m.\u001b[39mget_imported_module_dir())\n",
      "File \u001b[0;32m~/.local/lib/python3.10/site-packages/datasets/builder.py:569\u001b[0m, in \u001b[0;36mDatasetBuilder.get_imported_module_dir\u001b[0;34m(cls)\u001b[0m\n\u001b[1;32m    566\u001b[0m \u001b[39m@classmethod\u001b[39m\n\u001b[1;32m    567\u001b[0m \u001b[39mdef\u001b[39;00m \u001b[39mget_imported_module_dir\u001b[39m(\u001b[39mcls\u001b[39m):\n\u001b[1;32m    568\u001b[0m     \u001b[39m\"\"\"Return the path of the module of this class or subclass.\"\"\"\u001b[39;00m\n\u001b[0;32m--> 569\u001b[0m     \u001b[39mreturn\u001b[39;00m os\u001b[39m.\u001b[39mpath\u001b[39m.\u001b[39mdirname(inspect\u001b[39m.\u001b[39;49mgetfile(inspect\u001b[39m.\u001b[39;49mgetmodule(\u001b[39mcls\u001b[39;49m)))\n",
      "File \u001b[0;32m/usr/lib/python3.10/inspect.py:778\u001b[0m, in \u001b[0;36mgetfile\u001b[0;34m(object)\u001b[0m\n\u001b[1;32m    776\u001b[0m     \u001b[39mif\u001b[39;00m \u001b[39mgetattr\u001b[39m(\u001b[39mobject\u001b[39m, \u001b[39m'\u001b[39m\u001b[39m__file__\u001b[39m\u001b[39m'\u001b[39m, \u001b[39mNone\u001b[39;00m):\n\u001b[1;32m    777\u001b[0m         \u001b[39mreturn\u001b[39;00m \u001b[39mobject\u001b[39m\u001b[39m.\u001b[39m\u001b[39m__file__\u001b[39m\n\u001b[0;32m--> 778\u001b[0m     \u001b[39mraise\u001b[39;00m \u001b[39mTypeError\u001b[39;00m(\u001b[39m'\u001b[39m\u001b[39m{!r}\u001b[39;00m\u001b[39m is a built-in module\u001b[39m\u001b[39m'\u001b[39m\u001b[39m.\u001b[39mformat(\u001b[39mobject\u001b[39m))\n\u001b[1;32m    779\u001b[0m \u001b[39mif\u001b[39;00m isclass(\u001b[39mobject\u001b[39m):\n\u001b[1;32m    780\u001b[0m     \u001b[39mif\u001b[39;00m \u001b[39mhasattr\u001b[39m(\u001b[39mobject\u001b[39m, \u001b[39m'\u001b[39m\u001b[39m__module__\u001b[39m\u001b[39m'\u001b[39m):\n",
      "\u001b[0;31mTypeError\u001b[0m: <module '__main__'> is a built-in module"
     ]
    }
   ],
   "source": [
    "DatasetUnion = Union[datasets.DatasetDict, datasets.Dataset, datasets.IterableDatasetDict, datasets.IterableDataset]\n",
    "\n",
    "class LongSquadConfig(datasets.BuilderConfig):\n",
    "\n",
    "    def __init__(self, **kwargs):\n",
    "        super(LongSquadConfig, self).__init__(**kwargs)\n",
    "\n",
    "class LongSquad(datasets.GeneratorBasedBuilder):\n",
    "\n",
    "    BUILDER_CONFIGS = [\n",
    "        LongSquadConfig(name=\"squad_v2\", version=datasets.Version(\"2.0.0\"), description=\"SQuAD plain text version 2\"),\n",
    "    ]\n",
    "\n",
    "    # def _info(self):\n",
    "    #     return datasets.DatasetInfo(\n",
    "    #         features=datasets.Features(\n",
    "    #             {\n",
    "    #                 \"id\": datasets.Value(\"string\"),\n",
    "    #                 \"title\": datasets.Value(\"string\"),\n",
    "    #                 \"context\": datasets.Value(\"string\"),\n",
    "    #                 \"question\": datasets.Value(\"string\"),\n",
    "    #                 \"answers\": datasets.features.Sequence(\n",
    "    #                     {\n",
    "    #                         \"text\": datasets.Value(\"string\"),\n",
    "    #                         \"answer_start\": datasets.Value(\"int32\"),\n",
    "    #                     }\n",
    "    #                 ),\n",
    "    #             }\n",
    "    #         ),\n",
    "    #         supervised_keys=None,\n",
    "    #         task_templates=[\n",
    "    #             datasets.tasks.QuestionAnsweringExtractive(\n",
    "    #                 question_column=\"question\", context_column=\"context\", answers_column=\"answers\"\n",
    "    #             )\n",
    "    #         ],\n",
    "    #     )\n",
    "\n",
    "    def _generate_examples(self, **kwargs):\n",
    "        \"\"\"Yields examples.\"\"\"\n",
    "        # TODO(squad_v2): Yields (key, example) tuples from the dataset\n",
    "        # with open(filepath, encoding=\"utf-8\") as f:\n",
    "            # squad = json.load(f)\n",
    "        for example in long_dataset['train']:\n",
    "            title = example.get(\"title\", \"\")\n",
    "            for paragraph in example[\"paragraphs\"]:\n",
    "                context = paragraph[\"context\"]\n",
    "                for qa in paragraph[\"qas\"]:\n",
    "                    question = qa[\"question\"]\n",
    "                    id_ = qa[\"id\"]\n",
    "\n",
    "                    answer_starts = [answer[\"answer_start\"] for answer in qa[\"answers\"]]\n",
    "                    answers = [answer[\"text\"] for answer in qa[\"answers\"]]\n",
    "\n",
    "                    # Features currently used are \"context\", \"question\", and \"answers\".\n",
    "                    # Others are extracted here for the ease of future expansions.\n",
    "                    yield id_, {\n",
    "                        \"title\": title,\n",
    "                        \"context\": context,\n",
    "                        \"question\": question,\n",
    "                        \"id\": id_,\n",
    "                        \"answers\": {\n",
    "                            \"answer_start\": answer_starts,\n",
    "                            \"text\": answers,\n",
    "                        },\n",
    "                    }\n",
    "\n",
    "wrapped_dataset = LongSquad(dataset)"
   ]
  },
  {
   "cell_type": "code",
   "execution_count": 24,
   "metadata": {},
   "outputs": [
    {
     "name": "stderr",
     "output_type": "stream",
     "text": [
      "Loading cached processed dataset at /home/liam/.cache/huggingface/datasets/json/default-0c63ba6e2e28f3b2/0.0.0/a3e658c4731e59120d44081ac10bf85dc7e1388126b92338344ce9661907f253/cache-6003dbf6f26556e6.arrow\n",
      "Loading cached processed dataset at /home/liam/.cache/huggingface/datasets/json/default-0c63ba6e2e28f3b2/0.0.0/a3e658c4731e59120d44081ac10bf85dc7e1388126b92338344ce9661907f253/cache-9c89458cd5cce100.arrow\n",
      "Loading cached processed dataset at /home/liam/.cache/huggingface/datasets/json/default-0c63ba6e2e28f3b2/0.0.0/a3e658c4731e59120d44081ac10bf85dc7e1388126b92338344ce9661907f253/cache-95532e3799bb0f8a.arrow\n",
      "100%|██████████| 75/75 [00:07<00:00, 10.01ex/s]\n",
      "100%|██████████| 20/20 [00:01<00:00, 10.56ex/s]\n",
      "100%|██████████| 20/20 [00:01<00:00, 10.25ex/s]\n"
     ]
    }
   ],
   "source": [
    "# tokenize each context from the training dataset\n",
    "\n",
    "only_documents = long_dataset.map(lambda x: { \"document\":  x['paragraphs'][0]['context']})\n",
    "tokenizer = transformers.BertTokenizer.from_pretrained('bert-base-cased', force_download=False, use_fast=True)\n",
    "tokenized_long_dataset = only_documents.map(lambda x: tokenizer(x['document'], padding=\"longest\", truncation=True, return_tensors=\"pt\", max_length=10000, return_special_tokens_mask=True))\n",
    "\n",
    "\n"
   ]
  },
  {
   "cell_type": "code",
   "execution_count": 25,
   "metadata": {},
   "outputs": [
    {
     "name": "stdout",
     "output_type": "stream",
     "text": [
      "dict_keys(['title', 'paragraphs', 'document', 'input_ids', 'token_type_ids', 'special_tokens_mask', 'attention_mask'])\n",
      "4090\n"
     ]
    }
   ],
   "source": [
    "print(tokenized_long_dataset['train'][0].keys())\n",
    "print(len(tokenized_long_dataset['train'][0][\"input_ids\"][0]))"
   ]
  },
  {
   "cell_type": "code",
   "execution_count": 39,
   "metadata": {},
   "outputs": [
    {
     "name": "stdout",
     "output_type": "stream",
     "text": [
      "Average length: 2814.28\n",
      "Median length: 2881.0\n",
      "Max length: 9336\n",
      "Min length: 116\n"
     ]
    },
    {
     "data": {
      "image/png": "[encoded data removed]",
      "image/svg+xml": "<?xml version=\"1.0\" encoding=\"utf-8\" standalone=\"no\"?>\n<!DOCTYPE svg PUBLIC \"-//W3C//DTD SVG 1.1//EN\"\n  \"http://www.w3.org/Graphics/SVG/1.1/DTD/svg11.dtd\">\n<svg xmlns:xlink=\"http://www.w3.org/1999/xlink\" width=\"362.5625pt\" height=\"248.518125pt\" viewBox=\"0 0 362.5625 248.518125\" xmlns=\"http://www.w3.org/2000/svg\" version=\"1.1\">\n <metadata>\n  <rdf:RDF xmlns:dc=\"http://purl.org/dc/elements/1.1/\" xmlns:cc=\"http://creativecommons.org/ns#\" xmlns:rdf=\"http://www.w3.org/1999/02/22-rdf-syntax-ns#\">\n   <cc:Work>\n    <dc:type rdf:resource=\"http://purl.org/dc/dcmitype/StillImage\"/>\n    <dc:date>2022-09-19T19:11:11.138533</dc:date>\n    <dc:format>image/svg+xml</dc:format>\n    <dc:creator>\n     <cc:Agent>\n      <dc:title>Matplotlib v3.5.2, https://matplotlib.org/</dc:title>\n     </cc:Agent>\n    </dc:creator>\n   </cc:Work>\n  </rdf:RDF>\n </metadata>\n <defs>\n  <style type=\"text/css\">*{stroke-linejoin: round; stroke-linecap: butt}</style>\n </defs>\n <g id=\"figure_1\">\n  <g id=\"patch_1\">\n   <path d=\"M 0 248.518125 \nL 362.5625 248.518125 \nL 362.5625 0 \nL 0 0 \nL 0 248.518125 \nz\n\" style=\"fill: none\"/>\n  </g>\n  <g id=\"axes_1\">\n   <g id=\"patch_2\">\n    <path d=\"M 20.5625 224.64 \nL 355.3625 224.64 \nL 355.3625 7.2 \nL 20.5625 7.2 \nz\n\" style=\"fill: #ffffff\"/>\n   </g>\n   <g id=\"patch_3\">\n    <path d=\"M 35.780682 224.64 \nL 41.867955 224.64 \nL 41.867955 58.971429 \nL 35.780682 58.971429 \nz\n\" clip-path=\"url(#p1ea500eb3e)\" style=\"fill: #1f77b4\"/>\n   </g>\n   <g id=\"patch_4\">\n    <path d=\"M 41.867955 224.64 \nL 47.955227 224.64 \nL 47.955227 224.64 \nL 41.867955 224.64 \nz\n\" clip-path=\"url(#p1ea500eb3e)\" style=\"fill: #1f77b4\"/>\n   </g>\n   <g id=\"patch_5\">\n    <path d=\"M 47.955227 224.64 \nL 54.0425 224.64 \nL 54.0425 100.388571 \nL 47.955227 100.388571 \nz\n\" clip-path=\"url(#p1ea500eb3e)\" style=\"fill: #1f77b4\"/>\n   </g>\n   <g id=\"patch_6\">\n    <path d=\"M 54.0425 224.64 \nL 60.129773 224.64 \nL 60.129773 141.805714 \nL 54.0425 141.805714 \nz\n\" clip-path=\"url(#p1ea500eb3e)\" style=\"fill: #1f77b4\"/>\n   </g>\n   <g id=\"patch_7\">\n    <path d=\"M 60.129773 224.64 \nL 66.217045 224.64 \nL 66.217045 100.388571 \nL 60.129773 100.388571 \nz\n\" clip-path=\"url(#p1ea500eb3e)\" style=\"fill: #1f77b4\"/>\n   </g>\n   <g id=\"patch_8\">\n    <path d=\"M 66.217045 224.64 \nL 72.304318 224.64 \nL 72.304318 58.971429 \nL 66.217045 58.971429 \nz\n\" clip-path=\"url(#p1ea500eb3e)\" style=\"fill: #1f77b4\"/>\n   </g>\n   <g id=\"patch_9\">\n    <path d=\"M 72.304318 224.64 \nL 78.391591 224.64 \nL 78.391591 58.971429 \nL 72.304318 58.971429 \nz\n\" clip-path=\"url(#p1ea500eb3e)\" style=\"fill: #1f77b4\"/>\n   </g>\n   <g id=\"patch_10\">\n    <path d=\"M 78.391591 224.64 \nL 84.478864 224.64 \nL 84.478864 141.805714 \nL 78.391591 141.805714 \nz\n\" clip-path=\"url(#p1ea500eb3e)\" style=\"fill: #1f77b4\"/>\n   </g>\n   <g id=\"patch_11\">\n    <path d=\"M 84.478864 224.64 \nL 90.566136 224.64 \nL 90.566136 58.971429 \nL 84.478864 58.971429 \nz\n\" clip-path=\"url(#p1ea500eb3e)\" style=\"fill: #1f77b4\"/>\n   </g>\n   <g id=\"patch_12\">\n    <path d=\"M 90.566136 224.64 \nL 96.653409 224.64 \nL 96.653409 100.388571 \nL 90.566136 100.388571 \nz\n\" clip-path=\"url(#p1ea500eb3e)\" style=\"fill: #1f77b4\"/>\n   </g>\n   <g id=\"patch_13\">\n    <path d=\"M 96.653409 224.64 \nL 102.740682 224.64 \nL 102.740682 183.222857 \nL 96.653409 183.222857 \nz\n\" clip-path=\"url(#p1ea500eb3e)\" style=\"fill: #1f77b4\"/>\n   </g>\n   <g id=\"patch_14\">\n    <path d=\"M 102.740682 224.64 \nL 108.827955 224.64 \nL 108.827955 183.222857 \nL 102.740682 183.222857 \nz\n\" clip-path=\"url(#p1ea500eb3e)\" style=\"fill: #1f77b4\"/>\n   </g>\n   <g id=\"patch_15\">\n    <path d=\"M 108.827955 224.64 \nL 114.915227 224.64 \nL 114.915227 141.805714 \nL 108.827955 141.805714 \nz\n\" clip-path=\"url(#p1ea500eb3e)\" style=\"fill: #1f77b4\"/>\n   </g>\n   <g id=\"patch_16\">\n    <path d=\"M 114.915227 224.64 \nL 121.0025 224.64 \nL 121.0025 58.971429 \nL 114.915227 58.971429 \nz\n\" clip-path=\"url(#p1ea500eb3e)\" style=\"fill: #1f77b4\"/>\n   </g>\n   <g id=\"patch_17\">\n    <path d=\"M 121.0025 224.64 \nL 127.089773 224.64 \nL 127.089773 183.222857 \nL 121.0025 183.222857 \nz\n\" clip-path=\"url(#p1ea500eb3e)\" style=\"fill: #1f77b4\"/>\n   </g>\n   <g id=\"patch_18\">\n    <path d=\"M 127.089773 224.64 \nL 133.177045 224.64 \nL 133.177045 17.554286 \nL 127.089773 17.554286 \nz\n\" clip-path=\"url(#p1ea500eb3e)\" style=\"fill: #1f77b4\"/>\n   </g>\n   <g id=\"patch_19\">\n    <path d=\"M 133.177045 224.64 \nL 139.264318 224.64 \nL 139.264318 100.388571 \nL 133.177045 100.388571 \nz\n\" clip-path=\"url(#p1ea500eb3e)\" style=\"fill: #1f77b4\"/>\n   </g>\n   <g id=\"patch_20\">\n    <path d=\"M 139.264318 224.64 \nL 145.351591 224.64 \nL 145.351591 141.805714 \nL 139.264318 141.805714 \nz\n\" clip-path=\"url(#p1ea500eb3e)\" style=\"fill: #1f77b4\"/>\n   </g>\n   <g id=\"patch_21\">\n    <path d=\"M 145.351591 224.64 \nL 151.438864 224.64 \nL 151.438864 100.388571 \nL 145.351591 100.388571 \nz\n\" clip-path=\"url(#p1ea500eb3e)\" style=\"fill: #1f77b4\"/>\n   </g>\n   <g id=\"patch_22\">\n    <path d=\"M 151.438864 224.64 \nL 157.526136 224.64 \nL 157.526136 58.971429 \nL 151.438864 58.971429 \nz\n\" clip-path=\"url(#p1ea500eb3e)\" style=\"fill: #1f77b4\"/>\n   </g>\n   <g id=\"patch_23\">\n    <path d=\"M 157.526136 224.64 \nL 163.613409 224.64 \nL 163.613409 58.971429 \nL 157.526136 58.971429 \nz\n\" clip-path=\"url(#p1ea500eb3e)\" style=\"fill: #1f77b4\"/>\n   </g>\n   <g id=\"patch_24\">\n    <path d=\"M 163.613409 224.64 \nL 169.700682 224.64 \nL 169.700682 100.388571 \nL 163.613409 100.388571 \nz\n\" clip-path=\"url(#p1ea500eb3e)\" style=\"fill: #1f77b4\"/>\n   </g>\n   <g id=\"patch_25\">\n    <path d=\"M 169.700682 224.64 \nL 175.787955 224.64 \nL 175.787955 100.388571 \nL 169.700682 100.388571 \nz\n\" clip-path=\"url(#p1ea500eb3e)\" style=\"fill: #1f77b4\"/>\n   </g>\n   <g id=\"patch_26\">\n    <path d=\"M 175.787955 224.64 \nL 181.875227 224.64 \nL 181.875227 141.805714 \nL 175.787955 141.805714 \nz\n\" clip-path=\"url(#p1ea500eb3e)\" style=\"fill: #1f77b4\"/>\n   </g>\n   <g id=\"patch_27\">\n    <path d=\"M 181.875227 224.64 \nL 187.9625 224.64 \nL 187.9625 141.805714 \nL 181.875227 141.805714 \nz\n\" clip-path=\"url(#p1ea500eb3e)\" style=\"fill: #1f77b4\"/>\n   </g>\n   <g id=\"patch_28\">\n    <path d=\"M 187.9625 224.64 \nL 194.049773 224.64 \nL 194.049773 224.64 \nL 187.9625 224.64 \nz\n\" clip-path=\"url(#p1ea500eb3e)\" style=\"fill: #1f77b4\"/>\n   </g>\n   <g id=\"patch_29\">\n    <path d=\"M 194.049773 224.64 \nL 200.137045 224.64 \nL 200.137045 224.64 \nL 194.049773 224.64 \nz\n\" clip-path=\"url(#p1ea500eb3e)\" style=\"fill: #1f77b4\"/>\n   </g>\n   <g id=\"patch_30\">\n    <path d=\"M 200.137045 224.64 \nL 206.224318 224.64 \nL 206.224318 224.64 \nL 200.137045 224.64 \nz\n\" clip-path=\"url(#p1ea500eb3e)\" style=\"fill: #1f77b4\"/>\n   </g>\n   <g id=\"patch_31\">\n    <path d=\"M 206.224318 224.64 \nL 212.311591 224.64 \nL 212.311591 224.64 \nL 206.224318 224.64 \nz\n\" clip-path=\"url(#p1ea500eb3e)\" style=\"fill: #1f77b4\"/>\n   </g>\n   <g id=\"patch_32\">\n    <path d=\"M 212.311591 224.64 \nL 218.398864 224.64 \nL 218.398864 141.805714 \nL 212.311591 141.805714 \nz\n\" clip-path=\"url(#p1ea500eb3e)\" style=\"fill: #1f77b4\"/>\n   </g>\n   <g id=\"patch_33\">\n    <path d=\"M 218.398864 224.64 \nL 224.486136 224.64 \nL 224.486136 224.64 \nL 218.398864 224.64 \nz\n\" clip-path=\"url(#p1ea500eb3e)\" style=\"fill: #1f77b4\"/>\n   </g>\n   <g id=\"patch_34\">\n    <path d=\"M 224.486136 224.64 \nL 230.573409 224.64 \nL 230.573409 224.64 \nL 224.486136 224.64 \nz\n\" clip-path=\"url(#p1ea500eb3e)\" style=\"fill: #1f77b4\"/>\n   </g>\n   <g id=\"patch_35\">\n    <path d=\"M 230.573409 224.64 \nL 236.660682 224.64 \nL 236.660682 224.64 \nL 230.573409 224.64 \nz\n\" clip-path=\"url(#p1ea500eb3e)\" style=\"fill: #1f77b4\"/>\n   </g>\n   <g id=\"patch_36\">\n    <path d=\"M 236.660682 224.64 \nL 242.747955 224.64 \nL 242.747955 183.222857 \nL 236.660682 183.222857 \nz\n\" clip-path=\"url(#p1ea500eb3e)\" style=\"fill: #1f77b4\"/>\n   </g>\n   <g id=\"patch_37\">\n    <path d=\"M 242.747955 224.64 \nL 248.835227 224.64 \nL 248.835227 183.222857 \nL 242.747955 183.222857 \nz\n\" clip-path=\"url(#p1ea500eb3e)\" style=\"fill: #1f77b4\"/>\n   </g>\n   <g id=\"patch_38\">\n    <path d=\"M 248.835227 224.64 \nL 254.9225 224.64 \nL 254.9225 224.64 \nL 248.835227 224.64 \nz\n\" clip-path=\"url(#p1ea500eb3e)\" style=\"fill: #1f77b4\"/>\n   </g>\n   <g id=\"patch_39\">\n    <path d=\"M 254.9225 224.64 \nL 261.009773 224.64 \nL 261.009773 224.64 \nL 254.9225 224.64 \nz\n\" clip-path=\"url(#p1ea500eb3e)\" style=\"fill: #1f77b4\"/>\n   </g>\n   <g id=\"patch_40\">\n    <path d=\"M 261.009773 224.64 \nL 267.097045 224.64 \nL 267.097045 224.64 \nL 261.009773 224.64 \nz\n\" clip-path=\"url(#p1ea500eb3e)\" style=\"fill: #1f77b4\"/>\n   </g>\n   <g id=\"patch_41\">\n    <path d=\"M 267.097045 224.64 \nL 273.184318 224.64 \nL 273.184318 224.64 \nL 267.097045 224.64 \nz\n\" clip-path=\"url(#p1ea500eb3e)\" style=\"fill: #1f77b4\"/>\n   </g>\n   <g id=\"patch_42\">\n    <path d=\"M 273.184318 224.64 \nL 279.271591 224.64 \nL 279.271591 224.64 \nL 273.184318 224.64 \nz\n\" clip-path=\"url(#p1ea500eb3e)\" style=\"fill: #1f77b4\"/>\n   </g>\n   <g id=\"patch_43\">\n    <path d=\"M 279.271591 224.64 \nL 285.358864 224.64 \nL 285.358864 224.64 \nL 279.271591 224.64 \nz\n\" clip-path=\"url(#p1ea500eb3e)\" style=\"fill: #1f77b4\"/>\n   </g>\n   <g id=\"patch_44\">\n    <path d=\"M 285.358864 224.64 \nL 291.446136 224.64 \nL 291.446136 224.64 \nL 285.358864 224.64 \nz\n\" clip-path=\"url(#p1ea500eb3e)\" style=\"fill: #1f77b4\"/>\n   </g>\n   <g id=\"patch_45\">\n    <path d=\"M 291.446136 224.64 \nL 297.533409 224.64 \nL 297.533409 224.64 \nL 291.446136 224.64 \nz\n\" clip-path=\"url(#p1ea500eb3e)\" style=\"fill: #1f77b4\"/>\n   </g>\n   <g id=\"patch_46\">\n    <path d=\"M 297.533409 224.64 \nL 303.620682 224.64 \nL 303.620682 224.64 \nL 297.533409 224.64 \nz\n\" clip-path=\"url(#p1ea500eb3e)\" style=\"fill: #1f77b4\"/>\n   </g>\n   <g id=\"patch_47\">\n    <path d=\"M 303.620682 224.64 \nL 309.707955 224.64 \nL 309.707955 224.64 \nL 303.620682 224.64 \nz\n\" clip-path=\"url(#p1ea500eb3e)\" style=\"fill: #1f77b4\"/>\n   </g>\n   <g id=\"patch_48\">\n    <path d=\"M 309.707955 224.64 \nL 315.795227 224.64 \nL 315.795227 224.64 \nL 309.707955 224.64 \nz\n\" clip-path=\"url(#p1ea500eb3e)\" style=\"fill: #1f77b4\"/>\n   </g>\n   <g id=\"patch_49\">\n    <path d=\"M 315.795227 224.64 \nL 321.8825 224.64 \nL 321.8825 224.64 \nL 315.795227 224.64 \nz\n\" clip-path=\"url(#p1ea500eb3e)\" style=\"fill: #1f77b4\"/>\n   </g>\n   <g id=\"patch_50\">\n    <path d=\"M 321.8825 224.64 \nL 327.969773 224.64 \nL 327.969773 224.64 \nL 321.8825 224.64 \nz\n\" clip-path=\"url(#p1ea500eb3e)\" style=\"fill: #1f77b4\"/>\n   </g>\n   <g id=\"patch_51\">\n    <path d=\"M 327.969773 224.64 \nL 334.057045 224.64 \nL 334.057045 224.64 \nL 327.969773 224.64 \nz\n\" clip-path=\"url(#p1ea500eb3e)\" style=\"fill: #1f77b4\"/>\n   </g>\n   <g id=\"patch_52\">\n    <path d=\"M 334.057045 224.64 \nL 340.144318 224.64 \nL 340.144318 141.805714 \nL 334.057045 141.805714 \nz\n\" clip-path=\"url(#p1ea500eb3e)\" style=\"fill: #1f77b4\"/>\n   </g>\n   <g id=\"matplotlib.axis_1\">\n    <g id=\"xtick_1\">\n     <g id=\"line2d_1\">\n      <defs>\n       <path id=\"m9bf93c01eb\" d=\"M 0 0 \nL 0 3.5 \n\" style=\"stroke: #000000; stroke-width: 0.8\"/>\n      </defs>\n      <g>\n       <use xlink:href=\"#m9bf93c01eb\" x=\"31.951378\" y=\"224.64\" style=\"stroke: #000000; stroke-width: 0.8\"/>\n      </g>\n     </g>\n     <g id=\"text_1\">\n      <!-- 0 -->\n      <g transform=\"translate(28.770128 239.238437)scale(0.1 -0.1)\">\n       <defs>\n        <path id=\"DejaVuSans-30\" d=\"M 2034 4250 \nQ 1547 4250 1301 3770 \nQ 1056 3291 1056 2328 \nQ 1056 1369 1301 889 \nQ 1547 409 2034 409 \nQ 2525 409 2770 889 \nQ 3016 1369 3016 2328 \nQ 3016 3291 2770 3770 \nQ 2525 4250 2034 4250 \nz\nM 2034 4750 \nQ 2819 4750 3233 4129 \nQ 3647 3509 3647 2328 \nQ 3647 1150 3233 529 \nQ 2819 -91 2034 -91 \nQ 1250 -91 836 529 \nQ 422 1150 422 2328 \nQ 422 3509 836 4129 \nQ 1250 4750 2034 4750 \nz\n\" transform=\"scale(0.015625)\"/>\n       </defs>\n       <use xlink:href=\"#DejaVuSans-30\"/>\n      </g>\n     </g>\n    </g>\n    <g id=\"xtick_2\">\n     <g id=\"line2d_2\">\n      <g>\n       <use xlink:href=\"#m9bf93c01eb\" x=\"97.973859\" y=\"224.64\" style=\"stroke: #000000; stroke-width: 0.8\"/>\n      </g>\n     </g>\n     <g id=\"text_2\">\n      <!-- 2000 -->\n      <g transform=\"translate(85.248859 239.238437)scale(0.1 -0.1)\">\n       <defs>\n        <path id=\"DejaVuSans-32\" d=\"M 1228 531 \nL 3431 531 \nL 3431 0 \nL 469 0 \nL 469 531 \nQ 828 903 1448 1529 \nQ 2069 2156 2228 2338 \nQ 2531 2678 2651 2914 \nQ 2772 3150 2772 3378 \nQ 2772 3750 2511 3984 \nQ 2250 4219 1831 4219 \nQ 1534 4219 1204 4116 \nQ 875 4013 500 3803 \nL 500 4441 \nQ 881 4594 1212 4672 \nQ 1544 4750 1819 4750 \nQ 2544 4750 2975 4387 \nQ 3406 4025 3406 3419 \nQ 3406 3131 3298 2873 \nQ 3191 2616 2906 2266 \nQ 2828 2175 2409 1742 \nQ 1991 1309 1228 531 \nz\n\" transform=\"scale(0.015625)\"/>\n       </defs>\n       <use xlink:href=\"#DejaVuSans-32\"/>\n       <use xlink:href=\"#DejaVuSans-30\" x=\"63.623047\"/>\n       <use xlink:href=\"#DejaVuSans-30\" x=\"127.246094\"/>\n       <use xlink:href=\"#DejaVuSans-30\" x=\"190.869141\"/>\n      </g>\n     </g>\n    </g>\n    <g id=\"xtick_3\">\n     <g id=\"line2d_3\">\n      <g>\n       <use xlink:href=\"#m9bf93c01eb\" x=\"163.996339\" y=\"224.64\" style=\"stroke: #000000; stroke-width: 0.8\"/>\n      </g>\n     </g>\n     <g id=\"text_3\">\n      <!-- 4000 -->\n      <g transform=\"translate(151.271339 239.238437)scale(0.1 -0.1)\">\n       <defs>\n        <path id=\"DejaVuSans-34\" d=\"M 2419 4116 \nL 825 1625 \nL 2419 1625 \nL 2419 4116 \nz\nM 2253 4666 \nL 3047 4666 \nL 3047 1625 \nL 3713 1625 \nL 3713 1100 \nL 3047 1100 \nL 3047 0 \nL 2419 0 \nL 2419 1100 \nL 313 1100 \nL 313 1709 \nL 2253 4666 \nz\n\" transform=\"scale(0.015625)\"/>\n       </defs>\n       <use xlink:href=\"#DejaVuSans-34\"/>\n       <use xlink:href=\"#DejaVuSans-30\" x=\"63.623047\"/>\n       <use xlink:href=\"#DejaVuSans-30\" x=\"127.246094\"/>\n       <use xlink:href=\"#DejaVuSans-30\" x=\"190.869141\"/>\n      </g>\n     </g>\n    </g>\n    <g id=\"xtick_4\">\n     <g id=\"line2d_4\">\n      <g>\n       <use xlink:href=\"#m9bf93c01eb\" x=\"230.01882\" y=\"224.64\" style=\"stroke: #000000; stroke-width: 0.8\"/>\n      </g>\n     </g>\n     <g id=\"text_4\">\n      <!-- 6000 -->\n      <g transform=\"translate(217.29382 239.238437)scale(0.1 -0.1)\">\n       <defs>\n        <path id=\"DejaVuSans-36\" d=\"M 2113 2584 \nQ 1688 2584 1439 2293 \nQ 1191 2003 1191 1497 \nQ 1191 994 1439 701 \nQ 1688 409 2113 409 \nQ 2538 409 2786 701 \nQ 3034 994 3034 1497 \nQ 3034 2003 2786 2293 \nQ 2538 2584 2113 2584 \nz\nM 3366 4563 \nL 3366 3988 \nQ 3128 4100 2886 4159 \nQ 2644 4219 2406 4219 \nQ 1781 4219 1451 3797 \nQ 1122 3375 1075 2522 \nQ 1259 2794 1537 2939 \nQ 1816 3084 2150 3084 \nQ 2853 3084 3261 2657 \nQ 3669 2231 3669 1497 \nQ 3669 778 3244 343 \nQ 2819 -91 2113 -91 \nQ 1303 -91 875 529 \nQ 447 1150 447 2328 \nQ 447 3434 972 4092 \nQ 1497 4750 2381 4750 \nQ 2619 4750 2861 4703 \nQ 3103 4656 3366 4563 \nz\n\" transform=\"scale(0.015625)\"/>\n       </defs>\n       <use xlink:href=\"#DejaVuSans-36\"/>\n       <use xlink:href=\"#DejaVuSans-30\" x=\"63.623047\"/>\n       <use xlink:href=\"#DejaVuSans-30\" x=\"127.246094\"/>\n       <use xlink:href=\"#DejaVuSans-30\" x=\"190.869141\"/>\n      </g>\n     </g>\n    </g>\n    <g id=\"xtick_5\">\n     <g id=\"line2d_5\">\n      <g>\n       <use xlink:href=\"#m9bf93c01eb\" x=\"296.041301\" y=\"224.64\" style=\"stroke: #000000; stroke-width: 0.8\"/>\n      </g>\n     </g>\n     <g id=\"text_5\">\n      <!-- 8000 -->\n      <g transform=\"translate(283.316301 239.238437)scale(0.1 -0.1)\">\n       <defs>\n        <path id=\"DejaVuSans-38\" d=\"M 2034 2216 \nQ 1584 2216 1326 1975 \nQ 1069 1734 1069 1313 \nQ 1069 891 1326 650 \nQ 1584 409 2034 409 \nQ 2484 409 2743 651 \nQ 3003 894 3003 1313 \nQ 3003 1734 2745 1975 \nQ 2488 2216 2034 2216 \nz\nM 1403 2484 \nQ 997 2584 770 2862 \nQ 544 3141 544 3541 \nQ 544 4100 942 4425 \nQ 1341 4750 2034 4750 \nQ 2731 4750 3128 4425 \nQ 3525 4100 3525 3541 \nQ 3525 3141 3298 2862 \nQ 3072 2584 2669 2484 \nQ 3125 2378 3379 2068 \nQ 3634 1759 3634 1313 \nQ 3634 634 3220 271 \nQ 2806 -91 2034 -91 \nQ 1263 -91 848 271 \nQ 434 634 434 1313 \nQ 434 1759 690 2068 \nQ 947 2378 1403 2484 \nz\nM 1172 3481 \nQ 1172 3119 1398 2916 \nQ 1625 2713 2034 2713 \nQ 2441 2713 2670 2916 \nQ 2900 3119 2900 3481 \nQ 2900 3844 2670 4047 \nQ 2441 4250 2034 4250 \nQ 1625 4250 1398 4047 \nQ 1172 3844 1172 3481 \nz\n\" transform=\"scale(0.015625)\"/>\n       </defs>\n       <use xlink:href=\"#DejaVuSans-38\"/>\n       <use xlink:href=\"#DejaVuSans-30\" x=\"63.623047\"/>\n       <use xlink:href=\"#DejaVuSans-30\" x=\"127.246094\"/>\n       <use xlink:href=\"#DejaVuSans-30\" x=\"190.869141\"/>\n      </g>\n     </g>\n    </g>\n   </g>\n   <g id=\"matplotlib.axis_2\">\n    <g id=\"ytick_1\">\n     <g id=\"line2d_6\">\n      <defs>\n       <path id=\"m9f137fd794\" d=\"M 0 0 \nL -3.5 0 \n\" style=\"stroke: #000000; stroke-width: 0.8\"/>\n      </defs>\n      <g>\n       <use xlink:href=\"#m9f137fd794\" x=\"20.5625\" y=\"224.64\" style=\"stroke: #000000; stroke-width: 0.8\"/>\n      </g>\n     </g>\n     <g id=\"text_6\">\n      <!-- 0 -->\n      <g transform=\"translate(7.2 228.439219)scale(0.1 -0.1)\">\n       <use xlink:href=\"#DejaVuSans-30\"/>\n      </g>\n     </g>\n    </g>\n    <g id=\"ytick_2\">\n     <g id=\"line2d_7\">\n      <g>\n       <use xlink:href=\"#m9f137fd794\" x=\"20.5625\" y=\"183.222857\" style=\"stroke: #000000; stroke-width: 0.8\"/>\n      </g>\n     </g>\n     <g id=\"text_7\">\n      <!-- 1 -->\n      <g transform=\"translate(7.2 187.022076)scale(0.1 -0.1)\">\n       <defs>\n        <path id=\"DejaVuSans-31\" d=\"M 794 531 \nL 1825 531 \nL 1825 4091 \nL 703 3866 \nL 703 4441 \nL 1819 4666 \nL 2450 4666 \nL 2450 531 \nL 3481 531 \nL 3481 0 \nL 794 0 \nL 794 531 \nz\n\" transform=\"scale(0.015625)\"/>\n       </defs>\n       <use xlink:href=\"#DejaVuSans-31\"/>\n      </g>\n     </g>\n    </g>\n    <g id=\"ytick_3\">\n     <g id=\"line2d_8\">\n      <g>\n       <use xlink:href=\"#m9f137fd794\" x=\"20.5625\" y=\"141.805714\" style=\"stroke: #000000; stroke-width: 0.8\"/>\n      </g>\n     </g>\n     <g id=\"text_8\">\n      <!-- 2 -->\n      <g transform=\"translate(7.2 145.604933)scale(0.1 -0.1)\">\n       <use xlink:href=\"#DejaVuSans-32\"/>\n      </g>\n     </g>\n    </g>\n    <g id=\"ytick_4\">\n     <g id=\"line2d_9\">\n      <g>\n       <use xlink:href=\"#m9f137fd794\" x=\"20.5625\" y=\"100.388571\" style=\"stroke: #000000; stroke-width: 0.8\"/>\n      </g>\n     </g>\n     <g id=\"text_9\">\n      <!-- 3 -->\n      <g transform=\"translate(7.2 104.18779)scale(0.1 -0.1)\">\n       <defs>\n        <path id=\"DejaVuSans-33\" d=\"M 2597 2516 \nQ 3050 2419 3304 2112 \nQ 3559 1806 3559 1356 \nQ 3559 666 3084 287 \nQ 2609 -91 1734 -91 \nQ 1441 -91 1130 -33 \nQ 819 25 488 141 \nL 488 750 \nQ 750 597 1062 519 \nQ 1375 441 1716 441 \nQ 2309 441 2620 675 \nQ 2931 909 2931 1356 \nQ 2931 1769 2642 2001 \nQ 2353 2234 1838 2234 \nL 1294 2234 \nL 1294 2753 \nL 1863 2753 \nQ 2328 2753 2575 2939 \nQ 2822 3125 2822 3475 \nQ 2822 3834 2567 4026 \nQ 2313 4219 1838 4219 \nQ 1578 4219 1281 4162 \nQ 984 4106 628 3988 \nL 628 4550 \nQ 988 4650 1302 4700 \nQ 1616 4750 1894 4750 \nQ 2613 4750 3031 4423 \nQ 3450 4097 3450 3541 \nQ 3450 3153 3228 2886 \nQ 3006 2619 2597 2516 \nz\n\" transform=\"scale(0.015625)\"/>\n       </defs>\n       <use xlink:href=\"#DejaVuSans-33\"/>\n      </g>\n     </g>\n    </g>\n    <g id=\"ytick_5\">\n     <g id=\"line2d_10\">\n      <g>\n       <use xlink:href=\"#m9f137fd794\" x=\"20.5625\" y=\"58.971429\" style=\"stroke: #000000; stroke-width: 0.8\"/>\n      </g>\n     </g>\n     <g id=\"text_10\">\n      <!-- 4 -->\n      <g transform=\"translate(7.2 62.770647)scale(0.1 -0.1)\">\n       <use xlink:href=\"#DejaVuSans-34\"/>\n      </g>\n     </g>\n    </g>\n    <g id=\"ytick_6\">\n     <g id=\"line2d_11\">\n      <g>\n       <use xlink:href=\"#m9f137fd794\" x=\"20.5625\" y=\"17.554286\" style=\"stroke: #000000; stroke-width: 0.8\"/>\n      </g>\n     </g>\n     <g id=\"text_11\">\n      <!-- 5 -->\n      <g transform=\"translate(7.2 21.353504)scale(0.1 -0.1)\">\n       <defs>\n        <path id=\"DejaVuSans-35\" d=\"M 691 4666 \nL 3169 4666 \nL 3169 4134 \nL 1269 4134 \nL 1269 2991 \nQ 1406 3038 1543 3061 \nQ 1681 3084 1819 3084 \nQ 2600 3084 3056 2656 \nQ 3513 2228 3513 1497 \nQ 3513 744 3044 326 \nQ 2575 -91 1722 -91 \nQ 1428 -91 1123 -41 \nQ 819 9 494 109 \nL 494 744 \nQ 775 591 1075 516 \nQ 1375 441 1709 441 \nQ 2250 441 2565 725 \nQ 2881 1009 2881 1497 \nQ 2881 1984 2565 2268 \nQ 2250 2553 1709 2553 \nQ 1456 2553 1204 2497 \nQ 953 2441 691 2322 \nL 691 4666 \nz\n\" transform=\"scale(0.015625)\"/>\n       </defs>\n       <use xlink:href=\"#DejaVuSans-35\"/>\n      </g>\n     </g>\n    </g>\n   </g>\n   <g id=\"line2d_12\">\n    <path d=\"M 48.853133 224.64 \nL 48.853133 7.2 \n\" clip-path=\"url(#p1ea500eb3e)\" style=\"fill: none; stroke: #ff0000; stroke-width: 1.5; stroke-linecap: square\"/>\n   </g>\n   <g id=\"patch_53\">\n    <path d=\"M 20.5625 224.64 \nL 20.5625 7.2 \n\" style=\"fill: none; stroke: #000000; stroke-width: 0.8; stroke-linejoin: miter; stroke-linecap: square\"/>\n   </g>\n   <g id=\"patch_54\">\n    <path d=\"M 355.3625 224.64 \nL 355.3625 7.2 \n\" style=\"fill: none; stroke: #000000; stroke-width: 0.8; stroke-linejoin: miter; stroke-linecap: square\"/>\n   </g>\n   <g id=\"patch_55\">\n    <path d=\"M 20.5625 224.64 \nL 355.3625 224.64 \n\" style=\"fill: none; stroke: #000000; stroke-width: 0.8; stroke-linejoin: miter; stroke-linecap: square\"/>\n   </g>\n   <g id=\"patch_56\">\n    <path d=\"M 20.5625 7.2 \nL 355.3625 7.2 \n\" style=\"fill: none; stroke: #000000; stroke-width: 0.8; stroke-linejoin: miter; stroke-linecap: square\"/>\n   </g>\n  </g>\n </g>\n <defs>\n  <clipPath id=\"p1ea500eb3e\">\n   <rect x=\"20.5625\" y=\"7.2\" width=\"334.8\" height=\"217.44\"/>\n  </clipPath>\n </defs>\n</svg>\n",
      "text/plain": [
       "<Figure size 432x288 with 1 Axes>"
      ]
     },
     "metadata": {
      "needs_background": "light"
     },
     "output_type": "display_data"
    }
   ],
   "source": [
    "# print the length of all the tokenized documents as a histogram\n",
    "data = [len(x[\"input_ids\"][0]) for x in tokenized_long_dataset['train']]\n",
    "plot = plt.pyplot.hist(data, bins=50)\n",
    "\n",
    "# plot vertical line at 512\n",
    "plt.pyplot.axvline(x=512, color='r', linestyle='-')\n",
    "\n",
    "print(f\"Average length: {np.mean(data)}\")\n",
    "print(f\"Median length: {np.median(data)}\")\n",
    "print(f\"Max length: {np.max(data)}\")\n",
    "print(f\"Min length: {np.min(data)}\")"
   ]
  },
  {
   "cell_type": "code",
   "execution_count": 32,
   "metadata": {},
   "outputs": [
    {
     "name": "stdout",
     "output_type": "stream",
     "text": [
      "Number of documents with less than 512 tokens: 4\n",
      "Document length: 141\n",
      "Privacy Statement We allow third-party companies to serve ads and/or collect certain anonymous information when you visit our web site. These companies may use non-personally identifiable information (e.g., click stream information, browser type, time and date, subject of advertisements clicked or scrolled over) during your visits to this and other Web sites in order to provide advertisements about goods and services likely to be of greater interest to you. These companies typically use a cookie or third party web beacon to collect this information. To learn more about this behavioral advertising practice or to opt-out of this type of advertising, you can visit networkadvertising.org.\n",
      "Document length: 294\n",
      "Google Adsense and the DoubleClick DART Cookie Google, as a third party advertisement vendor, uses cookies to serve ads on this site. The use of DART cookies by Google enables them to serve adverts to visitors that are based on their visits to this website as well as other sites on the internet.\n",
      "To opt out of the DART cookies you may visit the Google ad and content network privacy policy at the following url http://www.google.com/privacy_ads.html Tracking of users through the DART cookie mechanisms are subject to Google's own privacy policies.\n",
      "Other Third Party ad servers or ad networks may also use cookies to track users activities on this website to measure advertisement effectiveness and other reasons that will be provided in their own privacy policies, RestaurantNews.com has no access or control over these cookies that may be used by third party advertisers.\n",
      "Collection of Personal Information When visiting RestaurantNews.com, the IP address used to access the site will be logged along with the dates and times of access. This information is purely used to analyze trends, administer the site, track users movement and gather broad demographic information for internal use. Most importantly, any recorded IP addresses are not linked to personally identifiable information.\n",
      "Changes to this Privacy Statement The contents of this statement may be altered at any time, at our discretion.\n",
      "Document length: 116\n",
      "TangerOutlets is committed to keeping your personal information confidential. Any and all personal identifiable information collected from our customers is used by Tanger Outlets only, and is not sold, shared or distributed to any third party.\n",
      "If at any time you want your email information removed from our database, simply utilize the unsubscribe link provided in your email. Any other data updates or removal requests can be sent to TangerOutlets, Attn: Marketing Department, PO Box 10889, Greensboro, NC 27408.\n",
      "Document length: 229\n",
      "Typically, we do not use cookies to collect information on the UH Central Web server (www.uh.edu). However, the following applications do use cookies to store user login information which is intended to make the application more user-friendly: IT Forum WebCT\n",
      "If you send us an electronic mail message with a question or comment that contains personally identifying information, or fill out a form that sends us this information, we will only use the personally-identifiable information to respond to your request and analyze trends. We may redirect your message to another government agency or person who is in a better position to answer your question.\n",
      "For site management functions, information is collected for analysis and statistical purposes. This information is not reported or used in any manner that would reveal personally identifiable information, and will not be released to any outside parties unless legally required to do so in connection with law enforcement investigations or other legal proceedings.\n",
      "We use log analysis tools to create summary statistics, which are used for purposes such as assessing what information is of most interest, determining technical design specifications, and identifying system performance or problem areas.\n"
     ]
    }
   ],
   "source": [
    "short_documents = [x for x in tokenized_long_dataset['train'] if len(x[\"input_ids\"][0]) <= 512]\n",
    "print(f\"Number of documents with less than 512 tokens: {len(short_documents)}\")\n",
    "for doc in short_documents:\n",
    "    print(f\"Document length: {len(doc['input_ids'][0])}\")\n",
    "    print(doc['paragraphs'][0]['context'])\n"
   ]
  }
 ],
 "metadata": {
  "kernelspec": {
   "display_name": "Python 3.10.6 64-bit",
   "language": "python",
   "name": "python3"
  },
  "language_info": {
   "codemirror_mode": {
    "name": "ipython",
    "version": 3
   },
   "file_extension": ".py",
   "mimetype": "text/x-python",
   "name": "python",
   "nbconvert_exporter": "python",
   "pygments_lexer": "ipython3",
   "version": "3.10.7"
  },
  "orig_nbformat": 4,
  "vscode": {
   "interpreter": {
    "hash": "e7370f93d1d0cde622a1f8e1c04877d8463912d04d973331ad4851f04de6915a"
   }
  }
 },
 "nbformat": 4,
 "nbformat_minor": 2
}
