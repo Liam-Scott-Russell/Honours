{
 "cells": [
  {
   "cell_type": "code",
   "execution_count": 1,
   "metadata": {},
   "outputs": [
    {
     "name": "stderr",
     "output_type": "stream",
     "text": [
      "/usr/lib/python3.10/site-packages/tqdm/auto.py:22: TqdmWarning: IProgress not found. Please update jupyter and ipywidgets. See https://ipywidgets.readthedocs.io/en/stable/user_install.html\n",
      "  from .autonotebook import tqdm as notebook_tqdm\n"
     ]
    }
   ],
   "source": [
    "import datasets\n",
    "import matplotlib as plt\n",
    "import tokenize\n",
    "import transformers\n",
    "from typing import Union\n",
    "import numpy as np\n",
    "import json\n",
    "import evaluate"
   ]
  },
  {
   "cell_type": "code",
   "execution_count": 2,
   "metadata": {},
   "outputs": [
    {
     "name": "stderr",
     "output_type": "stream",
     "text": [
      "Using custom data configuration default-913cdbee94de1fe4\n",
      "Reusing dataset json (/home/liam/.cache/huggingface/datasets/json/default-913cdbee94de1fe4/0.0.0/a3e658c4731e59120d44081ac10bf85dc7e1388126b92338344ce9661907f253)\n",
      "100%|██████████| 3/3 [00:00<00:00, 175.64it/s]\n"
     ]
    }
   ],
   "source": [
    "\n",
    "# Load the data from the policyqa folder\n",
    "dataset = datasets.load_dataset('json', data_files={'train': 'LongPolicyQA/train.json', 'dev': 'LongPolicyQA/dev.json', 'test': 'LongPolicyQA/test.json'}, field='data') \n"
   ]
  },
  {
   "cell_type": "code",
   "execution_count": 3,
   "metadata": {},
   "outputs": [
    {
     "name": "stdout",
     "output_type": "stream",
     "text": [
      "{'context': 'Last Updated on May 22, 2015', 'index': 1, 'qas': [{'answers': [{'answer_start': 0, 'text': 'Last Updated on May 22, 2015'}], 'id': '3f23wv3kh9cmvjio', 'question': \"Do you take the user's opinion before or after making changes in policy?\", 'type': 'Policy Change|||User Choice|||None'}, {'answers': [{'answer_start': 0, 'text': 'Last Updated on May 22, 2015'}], 'id': '5mk7ry5up95qrw7v', 'question': 'How do you inform all the users upon policy changes?', 'type': 'Policy Change|||Notification Type|||General notice in privacy policy'}], 'summary': ['The text does not fit into our label scheme.', 'The text introduces the policy, a section, or a group of practices, but it does not mention a specific practice.', 'When a change of an unspecified nature is made to the privacy policy, the policy date is updated or information about the change is posted as part of the policy. Users have no options regarding the change.']}\n",
      "dict_keys(['title', 'paragraphs'])\n"
     ]
    }
   ],
   "source": [
    "# print the keys of the training dataset\n",
    "print(dataset['test'][0]['paragraphs'][0:1][0])\n",
    "print(dataset['test'][0].keys())"
   ]
  },
  {
   "cell_type": "code",
   "execution_count": 4,
   "metadata": {},
   "outputs": [],
   "source": [
    "\n",
    "def make_dataset_use_entire_document_as_context(row):\n",
    "    \"\"\"\n",
    "    Convert the paragraphs into documents by:\n",
    "    1. Iteratre over each paragraph in the document (supplied row)\n",
    "    2. Concatenate all of the paragraphs' contexts together to form a single document\n",
    "    3. Update the 'context' field of each paragraph to be the document\n",
    "    4. Update the start of each answer to be the start of the answer in the document\n",
    "    :param row: a row from the dataset representing a single document\n",
    "    :return: the updated dataset.\n",
    "    \"\"\"\n",
    "    \n",
    "    # join all of the contexts together to form a single document, separating each with a newline\n",
    "    entire_document = '\\n'.join([paragraph['context'] for paragraph in row['paragraphs']])\n",
    "\n",
    "    # the offset relative to the start of the document\n",
    "    context_offset = 0 \n",
    "\n",
    "    for paragraph in row['paragraphs']:\n",
    "        original_context = paragraph['context']\n",
    "        paragraph['context'] = entire_document\n",
    "        for qa in paragraph['qas']:\n",
    "            for answer in qa['answers']:\n",
    "                answer['answer_start'] += context_offset\n",
    "\n",
    "        # update the context offset for the next paragraph\n",
    "        context_offset += len(original_context) + 1 # +1 for the newline character\n",
    "\n",
    "    return row\n",
    "\n",
    "\n",
    "def check_answer_offsets(row):\n",
    "    \"\"\"\n",
    "    Check that the answer offsets are correct\n",
    "    :param row: a row from the dataset representing a single document\n",
    "    :return: Nothing\n",
    "    \"\"\"\n",
    "    for paragraph in row['paragraphs']:\n",
    "        for qa in paragraph['qas']:\n",
    "            for answer in qa['answers']:\n",
    "                start = answer['answer_start']\n",
    "                selected_from_context = paragraph['context'][start:start + len(answer['text'])]\n",
    "                actual_text = answer['text']\n",
    "                assert selected_from_context == actual_text, f\"Expected {actual_text} but got {selected_from_context}\""
   ]
  },
  {
   "cell_type": "code",
   "execution_count": 5,
   "metadata": {},
   "outputs": [
    {
     "name": "stderr",
     "output_type": "stream",
     "text": [
      "Loading cached processed dataset at /home/liam/.cache/huggingface/datasets/json/default-913cdbee94de1fe4/0.0.0/a3e658c4731e59120d44081ac10bf85dc7e1388126b92338344ce9661907f253/cache-78c9fc9a0ff30008.arrow\n",
      "Loading cached processed dataset at /home/liam/.cache/huggingface/datasets/json/default-913cdbee94de1fe4/0.0.0/a3e658c4731e59120d44081ac10bf85dc7e1388126b92338344ce9661907f253/cache-2957dba8bd06dba4.arrow\n",
      "Loading cached processed dataset at /home/liam/.cache/huggingface/datasets/json/default-913cdbee94de1fe4/0.0.0/a3e658c4731e59120d44081ac10bf85dc7e1388126b92338344ce9661907f253/cache-714761196846a39b.arrow\n",
      "100%|██████████| 75/75 [00:01<00:00, 43.87ex/s]\n",
      "100%|██████████| 20/20 [00:00<00:00, 25.84ex/s]\n",
      "100%|██████████| 20/20 [00:00<00:00, 59.25ex/s]"
     ]
    },
    {
     "name": "stdout",
     "output_type": "stream",
     "text": [
      "{'context': 'Last Updated on May 22, 2015\\nNew Orleans Tourism Marketing Corporation (\"NOTMC\" or \"We\") has created this privacy policy (\"Privacy Policy\") to explain our personal information collection practices and your options regarding such data. The Privacy Policy applies to your access and use of the NOTMC Websites (as defined in our Terms of Use), mobile applications and other online programs (\"Online Services\"). By using or downloading any of our Online Services, you are agreeing that you have read and agree to be bound by this Privacy Policy. If you disagree with any part of this Privacy Policy, please do not use any of our Online Services.\\nNOTMC controls and operates its business and Online Services from within the United States of America. Our online privacy practices are governed by the laws of the United States and the State of Louisiana, which may differ from privacy laws in your state or home country. By submitting your personal information to us through the use of our Online Services, you consent to the transfer of your personal information to any country and its use and disclosure in accordance with this Privacy Policy and applicable U.S. federal and state laws.\\nWe may change our Privacy Policy, so please check this page from time to time, as your continued use of the Online Services after we publish our changes, indicates your acceptance of any changed terms. You can tell when the Privacy Policy was last updated by reviewing the \"Last Updated\" date at the top of the page.\\nYou can jump to specific areas of our Privacy Policy by clicking on the links below, or you can read on for the full Privacy Policy: Information We Collect How We Use Personal Information We Collect How We May Disclose Personal Information We Collect How We May Use or Disclose Other Information We Collect Your Options How We Protect Your Personal Information Cookies Social Networking and Third Party Sites California Users\\' Privacy Rights Children\\'s Online Privacy International Contact Us\\nInformation We Collect Whether you access our Online Services from your computer, smart phone, tablet or other mobile device, NOTMC and its agents may collect some information that identifies you or relates to you as an individual (\"Personal Information\"), such as your name, mailing address, telephone number, e-mail address, user name and password (for account administration), device ID, including IP address, geolocation (if using a mobile application and you consent to providing it), and additional personal information necessary for the administration of certain promotional events.\\nIn addition, we may collect other types of data (\"Other Information\") that do not reveal your identity or that do not relate directly to you or any other individual, such as Web browser and device information, including operating system, demographic information and other information provided by you that we may combine with other users of our Online Services or use on its own, mobile application usage data, aggregated information such as \"click stream\" information such as entry and exit points for our Online Services (including referring URLs or domains), certain Online Services traffic statistics, page views, and impressions, and information collected through cookies, pixel tags and other technologies described in more detail later in this Privacy Policy. In addition, when users request pages on our Online Services, our servers automatically log the IP address of the particular user. The IP address is a unique number assigned to your computer in order to identify it whenever you are surfing the web.\\nHow We Use Personal Information We Collect We may use Personal Information about you for purposes described in this Privacy Policy or as otherwise disclosed to you through our Online Services. For example, we may use Personal Information:\\nto process and manage your requests for products and services, including newsletters, guidebooks, and other items\\nrespond to and/or fulfill your inquiries or requests, and to post your comments, ratings or statements on message boards or in our online discussion areas or forums\\ncreate and deliver personalized promotions, including by combining your Personal Information with Other Information, such as the amounts and types of bookings or itineraries you make and discounts or benefits you use\\ncommunicate with you by mail, telephone, facsimile, e-mail, mobile alerts and SMS text messaging about NOTMC or our affiliates, including communications about your itineraries or purchases, your services, accounts, sweepstakes or contests you enter, your requests for information or other items, and to update you about changes to our Online Services\\ncommunicate with you, including by mail, telephone, facsimile, e-mail, mobile alerts and SMS text messaging, in connection with our marketing efforts, including sending you offers and promotions that you can take advantage of through our Online Services or at relevant physical venues around or near New Orleans and offer personalized collection, filtering, and delivery of information, including serving advertisements while you are visiting New Orleans.\\nallow you to send communications or gifts (including through our mobile application) to friends or family through our Online Services (conditioned on your representation to us that you are permitted to use and provide us with the recipient\\'s name and e-mail address;\\nfurther our business or operational purposes, for example, data analysis, audits, fraud monitoring and prevention; and\\nenhance, improve or modify our Online Services, to identify usage trends, determine the effectiveness of our promotional campaigns and advertisements and to operate and expand our business activities.\\nNOTMC may send you \"transactional or relationship\" communications using various electronic communication, including email and mobile communications. \"Transactional or relationship\" communications may include, for example, notices to facilitate a recent transaction you have conducted or messages with information about your existing account. If, at any time, you decide you would rather not receive these types of communications from NOTMC, you can opt out by following the \"opt-out\" or \"unsubscribe\" or \"STOP\" instructions in the relevant communication or update the contact preferences for your NOTMC account.\\nPlease note: You must opt in (i.e., expressly consent) to receive text messages (SMS) from NOTMC. Any such opt-in will be subject to this Privacy Policy and NOTMC will only send you SMS text messages if you opt in to receive them from us.\\nHow We May Disclose Personal Information We Collect Your privacy is very important to us. We generally won\\'t disclose your Personal Information to anyone outside of NOTMC, except in the following circumstances:\\nService Providers We may disclose your Personal Information to third-party service providers to provide us with services such as website hosting, professional services, including information technology services and related infrastructure, customer service, e-mail delivery, auditing and other similar services.\\nTo Perform Services You Request We may disclose your Personal Information to third parties in order to perform services you request, such as fulfillment of newsletter or guidebook requests, or functions you initiate, such as when you post information and materials on message boards and social media forums, including via Facebook, Twitter, Pinterest, etc. Please note that when you post information in a public forum, it becomes public information.\\nIn addition, we may disclose your Personal Information in order to identify you to anyone to whom you send communications or gifts through our Online Services.\\nCorporate Changes We may disclose your information to a third party in connection with a corporate reorganization, merger, sale, joint venture, assignment, transfer or other disposition of all or any portion of our business, assets or stock, including in connection with any bankruptcy or similar proceedings.\\nOther Legal Reasons In addition, we may use or disclose your Personal Information as we deem necessary or appropriate: under applicable law, including laws outside your country of residence; to respond to requests from public and government authorities including public and government authorities outside your country of residence; to comply with subpoenas and other legal processes; to pursue available remedies or limit damages we may sustain; to protect our operations or those of any of our Affiliates; to protect the rights, privacy, safety or property of NOTMC, you and others; and to enforce our Terms of Use and any other terms and conditions.\\nHow We May Use and Disclose Other Information We Collect Similarly, we generally use Other Information for any purpose not prohibited by law. In particular, we may collect, compile, store, publish, promote, report, sell, or otherwise disclose or use any and all Other Information, provided that such information does not personally identify you. Other Information that we collect generally will not personally identify you or be correlated to you individually for external purposes.\\nWhere we combine Other Information with Personal Information in a way that can identify you or be used to identify you personally, we will treat that information as Personal Information, subject to the provisions of this Privacy Policy.\\nYour Options To manage and correct any factual inaccuracies in the information we have on file about you, please follow the directions in the e-mail or other relevant electronic communication you receive from us.\\nHow We Protect Your Personal Information NOTMC has implemented reasonable safeguards designed to prevent loss, misuse and unauthorized access, disclosure or modification of Personal Information provided or collected through our Online Services.\\nUnfortunately, no system or online transmission of data can be guaranteed to be 100% secure and you should always take appropriate security measures to protect your Personal Information, including ensuring that you have up-to-date antivirus software. If you believe that your NOTMC account or any information you provided to us is no longer secure, please notify us immediately using the Contact Us information provided below.\\nHow We Use Cookies NOTMC and its agents use Cookies so that we can improve your online experience - for example, by remembering you when you come back to visit the Websites, and making the content you see more relevant to you. Cookies also enable us to track online purchases made through our Online Services.\\nYour Options for Cookies Web browsers allow some control of most Cookies. Please consult your particular Web browser\\'s settings. You can learn more about Cookies, see what Cookies have been set on your computing device and learn how to manage and delete them at allaboutcookies.org.\\nOnline Advertising NOTMC also uses Cookies and other technologies such as pixel tags, web beacons and clear GIF files, to help manage our online advertising program. These technologies are provided by our advertising management partners and enable them to recognize a unique Cookie that has been placed on your Web browser, which in turn enables us and these advertising management partners to learn which advertisements bring users to our Online Services.\\nNOTMC and our advertising management partners also may use these technologies to track the actions of users of our Online Services, to measure statistics of our marketing efforts, and to deliver advertisements on our Online Services that may be more relevant to individual consumers and to otherwise improve the experience of consumers using our Online Services.\\nSocial Networking and Third Party Sites When you link to our Online Services through any social networking or third party websites, applications or services (\"Third Party Services\"), please remember that you are also bound by the privacy policies of such Third Party Services, and NOTMC does not control and therefore is not responsible for the privacy practices of such Third Party Services. You should consult the privacy policies of such Third Party Services to understand their information practices.\\nYour California Privacy Rights If you live in California and have an established business relationship with us, you can request a list of the personal information we have shared with third parties for their marketing purposes. We will also give you a list of the third parties that have received your information. You can make a request one time each year. To exercise your rights, you can contact us by email at online@notmc.com or as set forth in the Contact Us section below. Please be sure to mention when you contact us that you are making a \"California Shine the Light\" inquiry. We will respond within 30 days.\\nChildren\\'s Online Privacy NOTMC does not target children and does not knowingly collect any personally identifiable information from children under the age of thirteen (13). When a user discloses personal information on our Online Services, the user is representing to us that he or she is at least thirteen (13) years of age.\\nIf you are the parent or guardian of a child under the age of thirteen (13), who you believe has provided NOTMC with personally identifiable information through our Online Services, please e-mail us at online@notmc.com so that we can delete the child\\'s information from our records.\\nInternational This English-language Privacy Policy is NOTMC\\'s official statement of our privacy practices. In case of any inconsistency between this English-language Privacy Policy and its translation into any other language, this English-language document will take precedence over such translation.', 'index': 1, 'qas': [{'answers': [{'answer_start': 0, 'text': 'Last Updated on May 22, 2015'}], 'id': '3f23wv3kh9cmvjio', 'question': \"Do you take the user's opinion before or after making changes in policy?\", 'type': 'Policy Change|||User Choice|||None'}, {'answers': [{'answer_start': 0, 'text': 'Last Updated on May 22, 2015'}], 'id': '5mk7ry5up95qrw7v', 'question': 'How do you inform all the users upon policy changes?', 'type': 'Policy Change|||Notification Type|||General notice in privacy policy'}], 'summary': ['The text does not fit into our label scheme.', 'The text introduces the policy, a section, or a group of practices, but it does not mention a specific practice.', 'When a change of an unspecified nature is made to the privacy policy, the policy date is updated or information about the change is posted as part of the policy. Users have no options regarding the change.']}\n"
     ]
    },
    {
     "name": "stderr",
     "output_type": "stream",
     "text": [
      "\n"
     ]
    }
   ],
   "source": [
    "long_dataset = dataset.map(make_dataset_use_entire_document_as_context)\n",
    "\n",
    "long_dataset.map(check_answer_offsets)\n",
    "\n",
    "print(long_dataset['test'][0]['paragraphs'][0:1][0])"
   ]
  },
  {
   "cell_type": "code",
   "execution_count": 6,
   "metadata": {},
   "outputs": [
    {
     "name": "stderr",
     "output_type": "stream",
     "text": [
      "Loading cached processed dataset at /home/liam/.cache/huggingface/datasets/json/default-913cdbee94de1fe4/0.0.0/a3e658c4731e59120d44081ac10bf85dc7e1388126b92338344ce9661907f253/cache-c97ef0247a83ac44.arrow\n",
      "Loading cached processed dataset at /home/liam/.cache/huggingface/datasets/json/default-913cdbee94de1fe4/0.0.0/a3e658c4731e59120d44081ac10bf85dc7e1388126b92338344ce9661907f253/cache-afa103abbd023c00.arrow\n",
      "Loading cached processed dataset at /home/liam/.cache/huggingface/datasets/json/default-913cdbee94de1fe4/0.0.0/a3e658c4731e59120d44081ac10bf85dc7e1388126b92338344ce9661907f253/cache-2713181b20b3ac5d.arrow\n",
      "Loading cached processed dataset at /home/liam/.cache/huggingface/datasets/json/default-913cdbee94de1fe4/0.0.0/a3e658c4731e59120d44081ac10bf85dc7e1388126b92338344ce9661907f253/cache-7d417da86bedb65a.arrow\n",
      "Loading cached processed dataset at /home/liam/.cache/huggingface/datasets/json/default-913cdbee94de1fe4/0.0.0/a3e658c4731e59120d44081ac10bf85dc7e1388126b92338344ce9661907f253/cache-95feda6469a4de6f.arrow\n",
      "Loading cached processed dataset at /home/liam/.cache/huggingface/datasets/json/default-913cdbee94de1fe4/0.0.0/a3e658c4731e59120d44081ac10bf85dc7e1388126b92338344ce9661907f253/cache-b3949885978d35a6.arrow\n"
     ]
    }
   ],
   "source": [
    "# tokenize each context from the training dataset\n",
    "\n",
    "only_documents = long_dataset.map(lambda x: { \"document\":  x['paragraphs'][0]['context']})\n",
    "tokenizer = transformers.BertTokenizer.from_pretrained('bert-base-cased', force_download=False, use_fast=True)\n",
    "tokenized_long_dataset = only_documents.map(lambda x: tokenizer(x['document'], padding=\"longest\", truncation=True, return_tensors=\"pt\", max_length=10000, return_special_tokens_mask=True))\n",
    "\n",
    "\n"
   ]
  },
  {
   "cell_type": "code",
   "execution_count": 7,
   "metadata": {},
   "outputs": [
    {
     "name": "stdout",
     "output_type": "stream",
     "text": [
      "dict_keys(['title', 'paragraphs', 'document', 'input_ids', 'token_type_ids', 'special_tokens_mask', 'attention_mask'])\n",
      "4090\n"
     ]
    }
   ],
   "source": [
    "print(tokenized_long_dataset['train'][0].keys())\n",
    "print(len(tokenized_long_dataset['train'][0][\"input_ids\"][0]))"
   ]
  },
  {
   "cell_type": "code",
   "execution_count": 8,
   "metadata": {},
   "outputs": [
    {
     "name": "stdout",
     "output_type": "stream",
     "text": [
      "Average length: 2814.28\n",
      "Median length: 2881.0\n",
      "Max length: 9336\n",
      "Min length: 116\n"
     ]
    },
    {
     "data": {
      "image/png": "[encoded data removed]",
      "image/svg+xml": "<?xml version=\"1.0\" encoding=\"utf-8\" standalone=\"no\"?>\n<!DOCTYPE svg PUBLIC \"-//W3C//DTD SVG 1.1//EN\"\n  \"http://www.w3.org/Graphics/SVG/1.1/DTD/svg11.dtd\">\n<svg xmlns:xlink=\"http://www.w3.org/1999/xlink\" width=\"372.103125pt\" height=\"248.518125pt\" viewBox=\"0 0 372.103125 248.518125\" xmlns=\"http://www.w3.org/2000/svg\" version=\"1.1\">\n <metadata>\n  <rdf:RDF xmlns:dc=\"http://purl.org/dc/elements/1.1/\" xmlns:cc=\"http://creativecommons.org/ns#\" xmlns:rdf=\"http://www.w3.org/1999/02/22-rdf-syntax-ns#\">\n   <cc:Work>\n    <dc:type rdf:resource=\"http://purl.org/dc/dcmitype/StillImage\"/>\n    <dc:date>2022-09-21T06:48:14.593184</dc:date>\n    <dc:format>image/svg+xml</dc:format>\n    <dc:creator>\n     <cc:Agent>\n      <dc:title>Matplotlib v3.5.2, https://matplotlib.org/</dc:title>\n     </cc:Agent>\n    </dc:creator>\n   </cc:Work>\n  </rdf:RDF>\n </metadata>\n <defs>\n  <style type=\"text/css\">*{stroke-linejoin: round; stroke-linecap: butt}</style>\n </defs>\n <g id=\"figure_1\">\n  <g id=\"patch_1\">\n   <path d=\"M 0 248.518125 \nL 372.103125 248.518125 \nL 372.103125 0 \nL 0 0 \nL 0 248.518125 \nz\n\" style=\"fill: none\"/>\n  </g>\n  <g id=\"axes_1\">\n   <g id=\"patch_2\">\n    <path d=\"M 30.103125 224.64 \nL 364.903125 224.64 \nL 364.903125 7.2 \nL 30.103125 7.2 \nz\n\" style=\"fill: #ffffff\"/>\n   </g>\n   <g id=\"patch_3\">\n    <path d=\"M 45.321307 224.64 \nL 48.364943 224.64 \nL 48.364943 86.582857 \nL 45.321307 86.582857 \nz\n\" clip-path=\"url(#pe396ae308c)\" style=\"fill: #1f77b4\"/>\n   </g>\n   <g id=\"patch_4\">\n    <path d=\"M 48.364943 224.64 \nL 51.40858 224.64 \nL 51.40858 86.582857 \nL 48.364943 86.582857 \nz\n\" clip-path=\"url(#pe396ae308c)\" style=\"fill: #1f77b4\"/>\n   </g>\n   <g id=\"patch_5\">\n    <path d=\"M 51.40858 224.64 \nL 54.452216 224.64 \nL 54.452216 224.64 \nL 51.40858 224.64 \nz\n\" clip-path=\"url(#pe396ae308c)\" style=\"fill: #1f77b4\"/>\n   </g>\n   <g id=\"patch_6\">\n    <path d=\"M 54.452216 224.64 \nL 57.495852 224.64 \nL 57.495852 224.64 \nL 54.452216 224.64 \nz\n\" clip-path=\"url(#pe396ae308c)\" style=\"fill: #1f77b4\"/>\n   </g>\n   <g id=\"patch_7\">\n    <path d=\"M 57.495852 224.64 \nL 60.539489 224.64 \nL 60.539489 86.582857 \nL 57.495852 86.582857 \nz\n\" clip-path=\"url(#pe396ae308c)\" style=\"fill: #1f77b4\"/>\n   </g>\n   <g id=\"patch_8\">\n    <path d=\"M 60.539489 224.64 \nL 63.583125 224.64 \nL 63.583125 155.611429 \nL 60.539489 155.611429 \nz\n\" clip-path=\"url(#pe396ae308c)\" style=\"fill: #1f77b4\"/>\n   </g>\n   <g id=\"patch_9\">\n    <path d=\"M 63.583125 224.64 \nL 66.626761 224.64 \nL 66.626761 224.64 \nL 63.583125 224.64 \nz\n\" clip-path=\"url(#pe396ae308c)\" style=\"fill: #1f77b4\"/>\n   </g>\n   <g id=\"patch_10\">\n    <path d=\"M 66.626761 224.64 \nL 69.670398 224.64 \nL 69.670398 86.582857 \nL 66.626761 86.582857 \nz\n\" clip-path=\"url(#pe396ae308c)\" style=\"fill: #1f77b4\"/>\n   </g>\n   <g id=\"patch_11\">\n    <path d=\"M 69.670398 224.64 \nL 72.714034 224.64 \nL 72.714034 17.554286 \nL 69.670398 17.554286 \nz\n\" clip-path=\"url(#pe396ae308c)\" style=\"fill: #1f77b4\"/>\n   </g>\n   <g id=\"patch_12\">\n    <path d=\"M 72.714034 224.64 \nL 75.75767 224.64 \nL 75.75767 224.64 \nL 72.714034 224.64 \nz\n\" clip-path=\"url(#pe396ae308c)\" style=\"fill: #1f77b4\"/>\n   </g>\n   <g id=\"patch_13\">\n    <path d=\"M 75.75767 224.64 \nL 78.801307 224.64 \nL 78.801307 155.611429 \nL 75.75767 155.611429 \nz\n\" clip-path=\"url(#pe396ae308c)\" style=\"fill: #1f77b4\"/>\n   </g>\n   <g id=\"patch_14\">\n    <path d=\"M 78.801307 224.64 \nL 81.844943 224.64 \nL 81.844943 17.554286 \nL 78.801307 17.554286 \nz\n\" clip-path=\"url(#pe396ae308c)\" style=\"fill: #1f77b4\"/>\n   </g>\n   <g id=\"patch_15\">\n    <path d=\"M 81.844943 224.64 \nL 84.88858 224.64 \nL 84.88858 155.611429 \nL 81.844943 155.611429 \nz\n\" clip-path=\"url(#pe396ae308c)\" style=\"fill: #1f77b4\"/>\n   </g>\n   <g id=\"patch_16\">\n    <path d=\"M 84.88858 224.64 \nL 87.932216 224.64 \nL 87.932216 17.554286 \nL 84.88858 17.554286 \nz\n\" clip-path=\"url(#pe396ae308c)\" style=\"fill: #1f77b4\"/>\n   </g>\n   <g id=\"patch_17\">\n    <path d=\"M 87.932216 224.64 \nL 90.975852 224.64 \nL 90.975852 155.611429 \nL 87.932216 155.611429 \nz\n\" clip-path=\"url(#pe396ae308c)\" style=\"fill: #1f77b4\"/>\n   </g>\n   <g id=\"patch_18\">\n    <path d=\"M 90.975852 224.64 \nL 94.019489 224.64 \nL 94.019489 155.611429 \nL 90.975852 155.611429 \nz\n\" clip-path=\"url(#pe396ae308c)\" style=\"fill: #1f77b4\"/>\n   </g>\n   <g id=\"patch_19\">\n    <path d=\"M 94.019489 224.64 \nL 97.063125 224.64 \nL 97.063125 86.582857 \nL 94.019489 86.582857 \nz\n\" clip-path=\"url(#pe396ae308c)\" style=\"fill: #1f77b4\"/>\n   </g>\n   <g id=\"patch_20\">\n    <path d=\"M 97.063125 224.64 \nL 100.106761 224.64 \nL 100.106761 86.582857 \nL 97.063125 86.582857 \nz\n\" clip-path=\"url(#pe396ae308c)\" style=\"fill: #1f77b4\"/>\n   </g>\n   <g id=\"patch_21\">\n    <path d=\"M 100.106761 224.64 \nL 103.150398 224.64 \nL 103.150398 86.582857 \nL 100.106761 86.582857 \nz\n\" clip-path=\"url(#pe396ae308c)\" style=\"fill: #1f77b4\"/>\n   </g>\n   <g id=\"patch_22\">\n    <path d=\"M 103.150398 224.64 \nL 106.194034 224.64 \nL 106.194034 155.611429 \nL 103.150398 155.611429 \nz\n\" clip-path=\"url(#pe396ae308c)\" style=\"fill: #1f77b4\"/>\n   </g>\n   <g id=\"patch_23\">\n    <path d=\"M 106.194034 224.64 \nL 109.23767 224.64 \nL 109.23767 155.611429 \nL 106.194034 155.611429 \nz\n\" clip-path=\"url(#pe396ae308c)\" style=\"fill: #1f77b4\"/>\n   </g>\n   <g id=\"patch_24\">\n    <path d=\"M 109.23767 224.64 \nL 112.281307 224.64 \nL 112.281307 224.64 \nL 109.23767 224.64 \nz\n\" clip-path=\"url(#pe396ae308c)\" style=\"fill: #1f77b4\"/>\n   </g>\n   <g id=\"patch_25\">\n    <path d=\"M 112.281307 224.64 \nL 115.324943 224.64 \nL 115.324943 155.611429 \nL 112.281307 155.611429 \nz\n\" clip-path=\"url(#pe396ae308c)\" style=\"fill: #1f77b4\"/>\n   </g>\n   <g id=\"patch_26\">\n    <path d=\"M 115.324943 224.64 \nL 118.36858 224.64 \nL 118.36858 224.64 \nL 115.324943 224.64 \nz\n\" clip-path=\"url(#pe396ae308c)\" style=\"fill: #1f77b4\"/>\n   </g>\n   <g id=\"patch_27\">\n    <path d=\"M 118.36858 224.64 \nL 121.412216 224.64 \nL 121.412216 224.64 \nL 118.36858 224.64 \nz\n\" clip-path=\"url(#pe396ae308c)\" style=\"fill: #1f77b4\"/>\n   </g>\n   <g id=\"patch_28\">\n    <path d=\"M 121.412216 224.64 \nL 124.455852 224.64 \nL 124.455852 86.582857 \nL 121.412216 86.582857 \nz\n\" clip-path=\"url(#pe396ae308c)\" style=\"fill: #1f77b4\"/>\n   </g>\n   <g id=\"patch_29\">\n    <path d=\"M 124.455852 224.64 \nL 127.499489 224.64 \nL 127.499489 17.554286 \nL 124.455852 17.554286 \nz\n\" clip-path=\"url(#pe396ae308c)\" style=\"fill: #1f77b4\"/>\n   </g>\n   <g id=\"patch_30\">\n    <path d=\"M 127.499489 224.64 \nL 130.543125 224.64 \nL 130.543125 155.611429 \nL 127.499489 155.611429 \nz\n\" clip-path=\"url(#pe396ae308c)\" style=\"fill: #1f77b4\"/>\n   </g>\n   <g id=\"patch_31\">\n    <path d=\"M 130.543125 224.64 \nL 133.586761 224.64 \nL 133.586761 224.64 \nL 130.543125 224.64 \nz\n\" clip-path=\"url(#pe396ae308c)\" style=\"fill: #1f77b4\"/>\n   </g>\n   <g id=\"patch_32\">\n    <path d=\"M 133.586761 224.64 \nL 136.630398 224.64 \nL 136.630398 155.611429 \nL 133.586761 155.611429 \nz\n\" clip-path=\"url(#pe396ae308c)\" style=\"fill: #1f77b4\"/>\n   </g>\n   <g id=\"patch_33\">\n    <path d=\"M 136.630398 224.64 \nL 139.674034 224.64 \nL 139.674034 17.554286 \nL 136.630398 17.554286 \nz\n\" clip-path=\"url(#pe396ae308c)\" style=\"fill: #1f77b4\"/>\n   </g>\n   <g id=\"patch_34\">\n    <path d=\"M 139.674034 224.64 \nL 142.71767 224.64 \nL 142.71767 86.582857 \nL 139.674034 86.582857 \nz\n\" clip-path=\"url(#pe396ae308c)\" style=\"fill: #1f77b4\"/>\n   </g>\n   <g id=\"patch_35\">\n    <path d=\"M 142.71767 224.64 \nL 145.761307 224.64 \nL 145.761307 155.611429 \nL 142.71767 155.611429 \nz\n\" clip-path=\"url(#pe396ae308c)\" style=\"fill: #1f77b4\"/>\n   </g>\n   <g id=\"patch_36\">\n    <path d=\"M 145.761307 224.64 \nL 148.804943 224.64 \nL 148.804943 86.582857 \nL 145.761307 86.582857 \nz\n\" clip-path=\"url(#pe396ae308c)\" style=\"fill: #1f77b4\"/>\n   </g>\n   <g id=\"patch_37\">\n    <path d=\"M 148.804943 224.64 \nL 151.84858 224.64 \nL 151.84858 155.611429 \nL 148.804943 155.611429 \nz\n\" clip-path=\"url(#pe396ae308c)\" style=\"fill: #1f77b4\"/>\n   </g>\n   <g id=\"patch_38\">\n    <path d=\"M 151.84858 224.64 \nL 154.892216 224.64 \nL 154.892216 155.611429 \nL 151.84858 155.611429 \nz\n\" clip-path=\"url(#pe396ae308c)\" style=\"fill: #1f77b4\"/>\n   </g>\n   <g id=\"patch_39\">\n    <path d=\"M 154.892216 224.64 \nL 157.935852 224.64 \nL 157.935852 86.582857 \nL 154.892216 86.582857 \nz\n\" clip-path=\"url(#pe396ae308c)\" style=\"fill: #1f77b4\"/>\n   </g>\n   <g id=\"patch_40\">\n    <path d=\"M 157.935852 224.64 \nL 160.979489 224.64 \nL 160.979489 155.611429 \nL 157.935852 155.611429 \nz\n\" clip-path=\"url(#pe396ae308c)\" style=\"fill: #1f77b4\"/>\n   </g>\n   <g id=\"patch_41\">\n    <path d=\"M 160.979489 224.64 \nL 164.023125 224.64 \nL 164.023125 17.554286 \nL 160.979489 17.554286 \nz\n\" clip-path=\"url(#pe396ae308c)\" style=\"fill: #1f77b4\"/>\n   </g>\n   <g id=\"patch_42\">\n    <path d=\"M 164.023125 224.64 \nL 167.066761 224.64 \nL 167.066761 155.611429 \nL 164.023125 155.611429 \nz\n\" clip-path=\"url(#pe396ae308c)\" style=\"fill: #1f77b4\"/>\n   </g>\n   <g id=\"patch_43\">\n    <path d=\"M 167.066761 224.64 \nL 170.110398 224.64 \nL 170.110398 17.554286 \nL 167.066761 17.554286 \nz\n\" clip-path=\"url(#pe396ae308c)\" style=\"fill: #1f77b4\"/>\n   </g>\n   <g id=\"patch_44\">\n    <path d=\"M 170.110398 224.64 \nL 173.154034 224.64 \nL 173.154034 155.611429 \nL 170.110398 155.611429 \nz\n\" clip-path=\"url(#pe396ae308c)\" style=\"fill: #1f77b4\"/>\n   </g>\n   <g id=\"patch_45\">\n    <path d=\"M 173.154034 224.64 \nL 176.19767 224.64 \nL 176.19767 155.611429 \nL 173.154034 155.611429 \nz\n\" clip-path=\"url(#pe396ae308c)\" style=\"fill: #1f77b4\"/>\n   </g>\n   <g id=\"patch_46\">\n    <path d=\"M 176.19767 224.64 \nL 179.241307 224.64 \nL 179.241307 86.582857 \nL 176.19767 86.582857 \nz\n\" clip-path=\"url(#pe396ae308c)\" style=\"fill: #1f77b4\"/>\n   </g>\n   <g id=\"patch_47\">\n    <path d=\"M 179.241307 224.64 \nL 182.284943 224.64 \nL 182.284943 86.582857 \nL 179.241307 86.582857 \nz\n\" clip-path=\"url(#pe396ae308c)\" style=\"fill: #1f77b4\"/>\n   </g>\n   <g id=\"patch_48\">\n    <path d=\"M 182.284943 224.64 \nL 185.32858 224.64 \nL 185.32858 155.611429 \nL 182.284943 155.611429 \nz\n\" clip-path=\"url(#pe396ae308c)\" style=\"fill: #1f77b4\"/>\n   </g>\n   <g id=\"patch_49\">\n    <path d=\"M 185.32858 224.64 \nL 188.372216 224.64 \nL 188.372216 86.582857 \nL 185.32858 86.582857 \nz\n\" clip-path=\"url(#pe396ae308c)\" style=\"fill: #1f77b4\"/>\n   </g>\n   <g id=\"patch_50\">\n    <path d=\"M 188.372216 224.64 \nL 191.415852 224.64 \nL 191.415852 224.64 \nL 188.372216 224.64 \nz\n\" clip-path=\"url(#pe396ae308c)\" style=\"fill: #1f77b4\"/>\n   </g>\n   <g id=\"patch_51\">\n    <path d=\"M 191.415852 224.64 \nL 194.459489 224.64 \nL 194.459489 155.611429 \nL 191.415852 155.611429 \nz\n\" clip-path=\"url(#pe396ae308c)\" style=\"fill: #1f77b4\"/>\n   </g>\n   <g id=\"patch_52\">\n    <path d=\"M 194.459489 224.64 \nL 197.503125 224.64 \nL 197.503125 155.611429 \nL 194.459489 155.611429 \nz\n\" clip-path=\"url(#pe396ae308c)\" style=\"fill: #1f77b4\"/>\n   </g>\n   <g id=\"patch_53\">\n    <path d=\"M 197.503125 224.64 \nL 200.546761 224.64 \nL 200.546761 224.64 \nL 197.503125 224.64 \nz\n\" clip-path=\"url(#pe396ae308c)\" style=\"fill: #1f77b4\"/>\n   </g>\n   <g id=\"patch_54\">\n    <path d=\"M 200.546761 224.64 \nL 203.590398 224.64 \nL 203.590398 224.64 \nL 200.546761 224.64 \nz\n\" clip-path=\"url(#pe396ae308c)\" style=\"fill: #1f77b4\"/>\n   </g>\n   <g id=\"patch_55\">\n    <path d=\"M 203.590398 224.64 \nL 206.634034 224.64 \nL 206.634034 224.64 \nL 203.590398 224.64 \nz\n\" clip-path=\"url(#pe396ae308c)\" style=\"fill: #1f77b4\"/>\n   </g>\n   <g id=\"patch_56\">\n    <path d=\"M 206.634034 224.64 \nL 209.67767 224.64 \nL 209.67767 224.64 \nL 206.634034 224.64 \nz\n\" clip-path=\"url(#pe396ae308c)\" style=\"fill: #1f77b4\"/>\n   </g>\n   <g id=\"patch_57\">\n    <path d=\"M 209.67767 224.64 \nL 212.721307 224.64 \nL 212.721307 224.64 \nL 209.67767 224.64 \nz\n\" clip-path=\"url(#pe396ae308c)\" style=\"fill: #1f77b4\"/>\n   </g>\n   <g id=\"patch_58\">\n    <path d=\"M 212.721307 224.64 \nL 215.764943 224.64 \nL 215.764943 224.64 \nL 212.721307 224.64 \nz\n\" clip-path=\"url(#pe396ae308c)\" style=\"fill: #1f77b4\"/>\n   </g>\n   <g id=\"patch_59\">\n    <path d=\"M 215.764943 224.64 \nL 218.80858 224.64 \nL 218.80858 224.64 \nL 215.764943 224.64 \nz\n\" clip-path=\"url(#pe396ae308c)\" style=\"fill: #1f77b4\"/>\n   </g>\n   <g id=\"patch_60\">\n    <path d=\"M 218.80858 224.64 \nL 221.852216 224.64 \nL 221.852216 224.64 \nL 218.80858 224.64 \nz\n\" clip-path=\"url(#pe396ae308c)\" style=\"fill: #1f77b4\"/>\n   </g>\n   <g id=\"patch_61\">\n    <path d=\"M 221.852216 224.64 \nL 224.895852 224.64 \nL 224.895852 155.611429 \nL 221.852216 155.611429 \nz\n\" clip-path=\"url(#pe396ae308c)\" style=\"fill: #1f77b4\"/>\n   </g>\n   <g id=\"patch_62\">\n    <path d=\"M 224.895852 224.64 \nL 227.939489 224.64 \nL 227.939489 155.611429 \nL 224.895852 155.611429 \nz\n\" clip-path=\"url(#pe396ae308c)\" style=\"fill: #1f77b4\"/>\n   </g>\n   <g id=\"patch_63\">\n    <path d=\"M 227.939489 224.64 \nL 230.983125 224.64 \nL 230.983125 224.64 \nL 227.939489 224.64 \nz\n\" clip-path=\"url(#pe396ae308c)\" style=\"fill: #1f77b4\"/>\n   </g>\n   <g id=\"patch_64\">\n    <path d=\"M 230.983125 224.64 \nL 234.026761 224.64 \nL 234.026761 224.64 \nL 230.983125 224.64 \nz\n\" clip-path=\"url(#pe396ae308c)\" style=\"fill: #1f77b4\"/>\n   </g>\n   <g id=\"patch_65\">\n    <path d=\"M 234.026761 224.64 \nL 237.070398 224.64 \nL 237.070398 224.64 \nL 234.026761 224.64 \nz\n\" clip-path=\"url(#pe396ae308c)\" style=\"fill: #1f77b4\"/>\n   </g>\n   <g id=\"patch_66\">\n    <path d=\"M 237.070398 224.64 \nL 240.114034 224.64 \nL 240.114034 224.64 \nL 237.070398 224.64 \nz\n\" clip-path=\"url(#pe396ae308c)\" style=\"fill: #1f77b4\"/>\n   </g>\n   <g id=\"patch_67\">\n    <path d=\"M 240.114034 224.64 \nL 243.15767 224.64 \nL 243.15767 224.64 \nL 240.114034 224.64 \nz\n\" clip-path=\"url(#pe396ae308c)\" style=\"fill: #1f77b4\"/>\n   </g>\n   <g id=\"patch_68\">\n    <path d=\"M 243.15767 224.64 \nL 246.201307 224.64 \nL 246.201307 224.64 \nL 243.15767 224.64 \nz\n\" clip-path=\"url(#pe396ae308c)\" style=\"fill: #1f77b4\"/>\n   </g>\n   <g id=\"patch_69\">\n    <path d=\"M 246.201307 224.64 \nL 249.244943 224.64 \nL 249.244943 155.611429 \nL 246.201307 155.611429 \nz\n\" clip-path=\"url(#pe396ae308c)\" style=\"fill: #1f77b4\"/>\n   </g>\n   <g id=\"patch_70\">\n    <path d=\"M 249.244943 224.64 \nL 252.28858 224.64 \nL 252.28858 224.64 \nL 249.244943 224.64 \nz\n\" clip-path=\"url(#pe396ae308c)\" style=\"fill: #1f77b4\"/>\n   </g>\n   <g id=\"patch_71\">\n    <path d=\"M 252.28858 224.64 \nL 255.332216 224.64 \nL 255.332216 155.611429 \nL 252.28858 155.611429 \nz\n\" clip-path=\"url(#pe396ae308c)\" style=\"fill: #1f77b4\"/>\n   </g>\n   <g id=\"patch_72\">\n    <path d=\"M 255.332216 224.64 \nL 258.375852 224.64 \nL 258.375852 224.64 \nL 255.332216 224.64 \nz\n\" clip-path=\"url(#pe396ae308c)\" style=\"fill: #1f77b4\"/>\n   </g>\n   <g id=\"patch_73\">\n    <path d=\"M 258.375852 224.64 \nL 261.419489 224.64 \nL 261.419489 224.64 \nL 258.375852 224.64 \nz\n\" clip-path=\"url(#pe396ae308c)\" style=\"fill: #1f77b4\"/>\n   </g>\n   <g id=\"patch_74\">\n    <path d=\"M 261.419489 224.64 \nL 264.463125 224.64 \nL 264.463125 224.64 \nL 261.419489 224.64 \nz\n\" clip-path=\"url(#pe396ae308c)\" style=\"fill: #1f77b4\"/>\n   </g>\n   <g id=\"patch_75\">\n    <path d=\"M 264.463125 224.64 \nL 267.506761 224.64 \nL 267.506761 224.64 \nL 264.463125 224.64 \nz\n\" clip-path=\"url(#pe396ae308c)\" style=\"fill: #1f77b4\"/>\n   </g>\n   <g id=\"patch_76\">\n    <path d=\"M 267.506761 224.64 \nL 270.550398 224.64 \nL 270.550398 224.64 \nL 267.506761 224.64 \nz\n\" clip-path=\"url(#pe396ae308c)\" style=\"fill: #1f77b4\"/>\n   </g>\n   <g id=\"patch_77\">\n    <path d=\"M 270.550398 224.64 \nL 273.594034 224.64 \nL 273.594034 224.64 \nL 270.550398 224.64 \nz\n\" clip-path=\"url(#pe396ae308c)\" style=\"fill: #1f77b4\"/>\n   </g>\n   <g id=\"patch_78\">\n    <path d=\"M 273.594034 224.64 \nL 276.63767 224.64 \nL 276.63767 224.64 \nL 273.594034 224.64 \nz\n\" clip-path=\"url(#pe396ae308c)\" style=\"fill: #1f77b4\"/>\n   </g>\n   <g id=\"patch_79\">\n    <path d=\"M 276.63767 224.64 \nL 279.681307 224.64 \nL 279.681307 224.64 \nL 276.63767 224.64 \nz\n\" clip-path=\"url(#pe396ae308c)\" style=\"fill: #1f77b4\"/>\n   </g>\n   <g id=\"patch_80\">\n    <path d=\"M 279.681307 224.64 \nL 282.724943 224.64 \nL 282.724943 224.64 \nL 279.681307 224.64 \nz\n\" clip-path=\"url(#pe396ae308c)\" style=\"fill: #1f77b4\"/>\n   </g>\n   <g id=\"patch_81\">\n    <path d=\"M 282.724943 224.64 \nL 285.76858 224.64 \nL 285.76858 224.64 \nL 282.724943 224.64 \nz\n\" clip-path=\"url(#pe396ae308c)\" style=\"fill: #1f77b4\"/>\n   </g>\n   <g id=\"patch_82\">\n    <path d=\"M 285.76858 224.64 \nL 288.812216 224.64 \nL 288.812216 224.64 \nL 285.76858 224.64 \nz\n\" clip-path=\"url(#pe396ae308c)\" style=\"fill: #1f77b4\"/>\n   </g>\n   <g id=\"patch_83\">\n    <path d=\"M 288.812216 224.64 \nL 291.855852 224.64 \nL 291.855852 224.64 \nL 288.812216 224.64 \nz\n\" clip-path=\"url(#pe396ae308c)\" style=\"fill: #1f77b4\"/>\n   </g>\n   <g id=\"patch_84\">\n    <path d=\"M 291.855852 224.64 \nL 294.899489 224.64 \nL 294.899489 224.64 \nL 291.855852 224.64 \nz\n\" clip-path=\"url(#pe396ae308c)\" style=\"fill: #1f77b4\"/>\n   </g>\n   <g id=\"patch_85\">\n    <path d=\"M 294.899489 224.64 \nL 297.943125 224.64 \nL 297.943125 224.64 \nL 294.899489 224.64 \nz\n\" clip-path=\"url(#pe396ae308c)\" style=\"fill: #1f77b4\"/>\n   </g>\n   <g id=\"patch_86\">\n    <path d=\"M 297.943125 224.64 \nL 300.986761 224.64 \nL 300.986761 224.64 \nL 297.943125 224.64 \nz\n\" clip-path=\"url(#pe396ae308c)\" style=\"fill: #1f77b4\"/>\n   </g>\n   <g id=\"patch_87\">\n    <path d=\"M 300.986761 224.64 \nL 304.030398 224.64 \nL 304.030398 224.64 \nL 300.986761 224.64 \nz\n\" clip-path=\"url(#pe396ae308c)\" style=\"fill: #1f77b4\"/>\n   </g>\n   <g id=\"patch_88\">\n    <path d=\"M 304.030398 224.64 \nL 307.074034 224.64 \nL 307.074034 224.64 \nL 304.030398 224.64 \nz\n\" clip-path=\"url(#pe396ae308c)\" style=\"fill: #1f77b4\"/>\n   </g>\n   <g id=\"patch_89\">\n    <path d=\"M 307.074034 224.64 \nL 310.11767 224.64 \nL 310.11767 224.64 \nL 307.074034 224.64 \nz\n\" clip-path=\"url(#pe396ae308c)\" style=\"fill: #1f77b4\"/>\n   </g>\n   <g id=\"patch_90\">\n    <path d=\"M 310.11767 224.64 \nL 313.161307 224.64 \nL 313.161307 224.64 \nL 310.11767 224.64 \nz\n\" clip-path=\"url(#pe396ae308c)\" style=\"fill: #1f77b4\"/>\n   </g>\n   <g id=\"patch_91\">\n    <path d=\"M 313.161307 224.64 \nL 316.204943 224.64 \nL 316.204943 224.64 \nL 313.161307 224.64 \nz\n\" clip-path=\"url(#pe396ae308c)\" style=\"fill: #1f77b4\"/>\n   </g>\n   <g id=\"patch_92\">\n    <path d=\"M 316.204943 224.64 \nL 319.24858 224.64 \nL 319.24858 224.64 \nL 316.204943 224.64 \nz\n\" clip-path=\"url(#pe396ae308c)\" style=\"fill: #1f77b4\"/>\n   </g>\n   <g id=\"patch_93\">\n    <path d=\"M 319.24858 224.64 \nL 322.292216 224.64 \nL 322.292216 224.64 \nL 319.24858 224.64 \nz\n\" clip-path=\"url(#pe396ae308c)\" style=\"fill: #1f77b4\"/>\n   </g>\n   <g id=\"patch_94\">\n    <path d=\"M 322.292216 224.64 \nL 325.335852 224.64 \nL 325.335852 224.64 \nL 322.292216 224.64 \nz\n\" clip-path=\"url(#pe396ae308c)\" style=\"fill: #1f77b4\"/>\n   </g>\n   <g id=\"patch_95\">\n    <path d=\"M 325.335852 224.64 \nL 328.379489 224.64 \nL 328.379489 224.64 \nL 325.335852 224.64 \nz\n\" clip-path=\"url(#pe396ae308c)\" style=\"fill: #1f77b4\"/>\n   </g>\n   <g id=\"patch_96\">\n    <path d=\"M 328.379489 224.64 \nL 331.423125 224.64 \nL 331.423125 224.64 \nL 328.379489 224.64 \nz\n\" clip-path=\"url(#pe396ae308c)\" style=\"fill: #1f77b4\"/>\n   </g>\n   <g id=\"patch_97\">\n    <path d=\"M 331.423125 224.64 \nL 334.466761 224.64 \nL 334.466761 224.64 \nL 331.423125 224.64 \nz\n\" clip-path=\"url(#pe396ae308c)\" style=\"fill: #1f77b4\"/>\n   </g>\n   <g id=\"patch_98\">\n    <path d=\"M 334.466761 224.64 \nL 337.510398 224.64 \nL 337.510398 224.64 \nL 334.466761 224.64 \nz\n\" clip-path=\"url(#pe396ae308c)\" style=\"fill: #1f77b4\"/>\n   </g>\n   <g id=\"patch_99\">\n    <path d=\"M 337.510398 224.64 \nL 340.554034 224.64 \nL 340.554034 224.64 \nL 337.510398 224.64 \nz\n\" clip-path=\"url(#pe396ae308c)\" style=\"fill: #1f77b4\"/>\n   </g>\n   <g id=\"patch_100\">\n    <path d=\"M 340.554034 224.64 \nL 343.59767 224.64 \nL 343.59767 224.64 \nL 340.554034 224.64 \nz\n\" clip-path=\"url(#pe396ae308c)\" style=\"fill: #1f77b4\"/>\n   </g>\n   <g id=\"patch_101\">\n    <path d=\"M 343.59767 224.64 \nL 346.641307 224.64 \nL 346.641307 224.64 \nL 343.59767 224.64 \nz\n\" clip-path=\"url(#pe396ae308c)\" style=\"fill: #1f77b4\"/>\n   </g>\n   <g id=\"patch_102\">\n    <path d=\"M 346.641307 224.64 \nL 349.684943 224.64 \nL 349.684943 86.582857 \nL 346.641307 86.582857 \nz\n\" clip-path=\"url(#pe396ae308c)\" style=\"fill: #1f77b4\"/>\n   </g>\n   <g id=\"matplotlib.axis_1\">\n    <g id=\"xtick_1\">\n     <g id=\"line2d_1\">\n      <defs>\n       <path id=\"m9dd91a1915\" d=\"M 0 0 \nL 0 3.5 \n\" style=\"stroke: #000000; stroke-width: 0.8\"/>\n      </defs>\n      <g>\n       <use xlink:href=\"#m9dd91a1915\" x=\"41.492003\" y=\"224.64\" style=\"stroke: #000000; stroke-width: 0.8\"/>\n      </g>\n     </g>\n     <g id=\"text_1\">\n      <!-- 0 -->\n      <g transform=\"translate(38.310753 239.238437)scale(0.1 -0.1)\">\n       <defs>\n        <path id=\"DejaVuSans-30\" d=\"M 2034 4250 \nQ 1547 4250 1301 3770 \nQ 1056 3291 1056 2328 \nQ 1056 1369 1301 889 \nQ 1547 409 2034 409 \nQ 2525 409 2770 889 \nQ 3016 1369 3016 2328 \nQ 3016 3291 2770 3770 \nQ 2525 4250 2034 4250 \nz\nM 2034 4750 \nQ 2819 4750 3233 4129 \nQ 3647 3509 3647 2328 \nQ 3647 1150 3233 529 \nQ 2819 -91 2034 -91 \nQ 1250 -91 836 529 \nQ 422 1150 422 2328 \nQ 422 3509 836 4129 \nQ 1250 4750 2034 4750 \nz\n\" transform=\"scale(0.015625)\"/>\n       </defs>\n       <use xlink:href=\"#DejaVuSans-30\"/>\n      </g>\n     </g>\n    </g>\n    <g id=\"xtick_2\">\n     <g id=\"line2d_2\">\n      <g>\n       <use xlink:href=\"#m9dd91a1915\" x=\"107.514484\" y=\"224.64\" style=\"stroke: #000000; stroke-width: 0.8\"/>\n      </g>\n     </g>\n     <g id=\"text_2\">\n      <!-- 2000 -->\n      <g transform=\"translate(94.789484 239.238437)scale(0.1 -0.1)\">\n       <defs>\n        <path id=\"DejaVuSans-32\" d=\"M 1228 531 \nL 3431 531 \nL 3431 0 \nL 469 0 \nL 469 531 \nQ 828 903 1448 1529 \nQ 2069 2156 2228 2338 \nQ 2531 2678 2651 2914 \nQ 2772 3150 2772 3378 \nQ 2772 3750 2511 3984 \nQ 2250 4219 1831 4219 \nQ 1534 4219 1204 4116 \nQ 875 4013 500 3803 \nL 500 4441 \nQ 881 4594 1212 4672 \nQ 1544 4750 1819 4750 \nQ 2544 4750 2975 4387 \nQ 3406 4025 3406 3419 \nQ 3406 3131 3298 2873 \nQ 3191 2616 2906 2266 \nQ 2828 2175 2409 1742 \nQ 1991 1309 1228 531 \nz\n\" transform=\"scale(0.015625)\"/>\n       </defs>\n       <use xlink:href=\"#DejaVuSans-32\"/>\n       <use xlink:href=\"#DejaVuSans-30\" x=\"63.623047\"/>\n       <use xlink:href=\"#DejaVuSans-30\" x=\"127.246094\"/>\n       <use xlink:href=\"#DejaVuSans-30\" x=\"190.869141\"/>\n      </g>\n     </g>\n    </g>\n    <g id=\"xtick_3\">\n     <g id=\"line2d_3\">\n      <g>\n       <use xlink:href=\"#m9dd91a1915\" x=\"173.536964\" y=\"224.64\" style=\"stroke: #000000; stroke-width: 0.8\"/>\n      </g>\n     </g>\n     <g id=\"text_3\">\n      <!-- 4000 -->\n      <g transform=\"translate(160.811964 239.238437)scale(0.1 -0.1)\">\n       <defs>\n        <path id=\"DejaVuSans-34\" d=\"M 2419 4116 \nL 825 1625 \nL 2419 1625 \nL 2419 4116 \nz\nM 2253 4666 \nL 3047 4666 \nL 3047 1625 \nL 3713 1625 \nL 3713 1100 \nL 3047 1100 \nL 3047 0 \nL 2419 0 \nL 2419 1100 \nL 313 1100 \nL 313 1709 \nL 2253 4666 \nz\n\" transform=\"scale(0.015625)\"/>\n       </defs>\n       <use xlink:href=\"#DejaVuSans-34\"/>\n       <use xlink:href=\"#DejaVuSans-30\" x=\"63.623047\"/>\n       <use xlink:href=\"#DejaVuSans-30\" x=\"127.246094\"/>\n       <use xlink:href=\"#DejaVuSans-30\" x=\"190.869141\"/>\n      </g>\n     </g>\n    </g>\n    <g id=\"xtick_4\">\n     <g id=\"line2d_4\">\n      <g>\n       <use xlink:href=\"#m9dd91a1915\" x=\"239.559445\" y=\"224.64\" style=\"stroke: #000000; stroke-width: 0.8\"/>\n      </g>\n     </g>\n     <g id=\"text_4\">\n      <!-- 6000 -->\n      <g transform=\"translate(226.834445 239.238437)scale(0.1 -0.1)\">\n       <defs>\n        <path id=\"DejaVuSans-36\" d=\"M 2113 2584 \nQ 1688 2584 1439 2293 \nQ 1191 2003 1191 1497 \nQ 1191 994 1439 701 \nQ 1688 409 2113 409 \nQ 2538 409 2786 701 \nQ 3034 994 3034 1497 \nQ 3034 2003 2786 2293 \nQ 2538 2584 2113 2584 \nz\nM 3366 4563 \nL 3366 3988 \nQ 3128 4100 2886 4159 \nQ 2644 4219 2406 4219 \nQ 1781 4219 1451 3797 \nQ 1122 3375 1075 2522 \nQ 1259 2794 1537 2939 \nQ 1816 3084 2150 3084 \nQ 2853 3084 3261 2657 \nQ 3669 2231 3669 1497 \nQ 3669 778 3244 343 \nQ 2819 -91 2113 -91 \nQ 1303 -91 875 529 \nQ 447 1150 447 2328 \nQ 447 3434 972 4092 \nQ 1497 4750 2381 4750 \nQ 2619 4750 2861 4703 \nQ 3103 4656 3366 4563 \nz\n\" transform=\"scale(0.015625)\"/>\n       </defs>\n       <use xlink:href=\"#DejaVuSans-36\"/>\n       <use xlink:href=\"#DejaVuSans-30\" x=\"63.623047\"/>\n       <use xlink:href=\"#DejaVuSans-30\" x=\"127.246094\"/>\n       <use xlink:href=\"#DejaVuSans-30\" x=\"190.869141\"/>\n      </g>\n     </g>\n    </g>\n    <g id=\"xtick_5\">\n     <g id=\"line2d_5\">\n      <g>\n       <use xlink:href=\"#m9dd91a1915\" x=\"305.581926\" y=\"224.64\" style=\"stroke: #000000; stroke-width: 0.8\"/>\n      </g>\n     </g>\n     <g id=\"text_5\">\n      <!-- 8000 -->\n      <g transform=\"translate(292.856926 239.238437)scale(0.1 -0.1)\">\n       <defs>\n        <path id=\"DejaVuSans-38\" d=\"M 2034 2216 \nQ 1584 2216 1326 1975 \nQ 1069 1734 1069 1313 \nQ 1069 891 1326 650 \nQ 1584 409 2034 409 \nQ 2484 409 2743 651 \nQ 3003 894 3003 1313 \nQ 3003 1734 2745 1975 \nQ 2488 2216 2034 2216 \nz\nM 1403 2484 \nQ 997 2584 770 2862 \nQ 544 3141 544 3541 \nQ 544 4100 942 4425 \nQ 1341 4750 2034 4750 \nQ 2731 4750 3128 4425 \nQ 3525 4100 3525 3541 \nQ 3525 3141 3298 2862 \nQ 3072 2584 2669 2484 \nQ 3125 2378 3379 2068 \nQ 3634 1759 3634 1313 \nQ 3634 634 3220 271 \nQ 2806 -91 2034 -91 \nQ 1263 -91 848 271 \nQ 434 634 434 1313 \nQ 434 1759 690 2068 \nQ 947 2378 1403 2484 \nz\nM 1172 3481 \nQ 1172 3119 1398 2916 \nQ 1625 2713 2034 2713 \nQ 2441 2713 2670 2916 \nQ 2900 3119 2900 3481 \nQ 2900 3844 2670 4047 \nQ 2441 4250 2034 4250 \nQ 1625 4250 1398 4047 \nQ 1172 3844 1172 3481 \nz\n\" transform=\"scale(0.015625)\"/>\n       </defs>\n       <use xlink:href=\"#DejaVuSans-38\"/>\n       <use xlink:href=\"#DejaVuSans-30\" x=\"63.623047\"/>\n       <use xlink:href=\"#DejaVuSans-30\" x=\"127.246094\"/>\n       <use xlink:href=\"#DejaVuSans-30\" x=\"190.869141\"/>\n      </g>\n     </g>\n    </g>\n   </g>\n   <g id=\"matplotlib.axis_2\">\n    <g id=\"ytick_1\">\n     <g id=\"line2d_6\">\n      <defs>\n       <path id=\"md78ddd1f3c\" d=\"M 0 0 \nL -3.5 0 \n\" style=\"stroke: #000000; stroke-width: 0.8\"/>\n      </defs>\n      <g>\n       <use xlink:href=\"#md78ddd1f3c\" x=\"30.103125\" y=\"224.64\" style=\"stroke: #000000; stroke-width: 0.8\"/>\n      </g>\n     </g>\n     <g id=\"text_6\">\n      <!-- 0.0 -->\n      <g transform=\"translate(7.2 228.439219)scale(0.1 -0.1)\">\n       <defs>\n        <path id=\"DejaVuSans-2e\" d=\"M 684 794 \nL 1344 794 \nL 1344 0 \nL 684 0 \nL 684 794 \nz\n\" transform=\"scale(0.015625)\"/>\n       </defs>\n       <use xlink:href=\"#DejaVuSans-30\"/>\n       <use xlink:href=\"#DejaVuSans-2e\" x=\"63.623047\"/>\n       <use xlink:href=\"#DejaVuSans-30\" x=\"95.410156\"/>\n      </g>\n     </g>\n    </g>\n    <g id=\"ytick_2\">\n     <g id=\"line2d_7\">\n      <g>\n       <use xlink:href=\"#md78ddd1f3c\" x=\"30.103125\" y=\"190.125714\" style=\"stroke: #000000; stroke-width: 0.8\"/>\n      </g>\n     </g>\n     <g id=\"text_7\">\n      <!-- 0.5 -->\n      <g transform=\"translate(7.2 193.924933)scale(0.1 -0.1)\">\n       <defs>\n        <path id=\"DejaVuSans-35\" d=\"M 691 4666 \nL 3169 4666 \nL 3169 4134 \nL 1269 4134 \nL 1269 2991 \nQ 1406 3038 1543 3061 \nQ 1681 3084 1819 3084 \nQ 2600 3084 3056 2656 \nQ 3513 2228 3513 1497 \nQ 3513 744 3044 326 \nQ 2575 -91 1722 -91 \nQ 1428 -91 1123 -41 \nQ 819 9 494 109 \nL 494 744 \nQ 775 591 1075 516 \nQ 1375 441 1709 441 \nQ 2250 441 2565 725 \nQ 2881 1009 2881 1497 \nQ 2881 1984 2565 2268 \nQ 2250 2553 1709 2553 \nQ 1456 2553 1204 2497 \nQ 953 2441 691 2322 \nL 691 4666 \nz\n\" transform=\"scale(0.015625)\"/>\n       </defs>\n       <use xlink:href=\"#DejaVuSans-30\"/>\n       <use xlink:href=\"#DejaVuSans-2e\" x=\"63.623047\"/>\n       <use xlink:href=\"#DejaVuSans-35\" x=\"95.410156\"/>\n      </g>\n     </g>\n    </g>\n    <g id=\"ytick_3\">\n     <g id=\"line2d_8\">\n      <g>\n       <use xlink:href=\"#md78ddd1f3c\" x=\"30.103125\" y=\"155.611429\" style=\"stroke: #000000; stroke-width: 0.8\"/>\n      </g>\n     </g>\n     <g id=\"text_8\">\n      <!-- 1.0 -->\n      <g transform=\"translate(7.2 159.410647)scale(0.1 -0.1)\">\n       <defs>\n        <path id=\"DejaVuSans-31\" d=\"M 794 531 \nL 1825 531 \nL 1825 4091 \nL 703 3866 \nL 703 4441 \nL 1819 4666 \nL 2450 4666 \nL 2450 531 \nL 3481 531 \nL 3481 0 \nL 794 0 \nL 794 531 \nz\n\" transform=\"scale(0.015625)\"/>\n       </defs>\n       <use xlink:href=\"#DejaVuSans-31\"/>\n       <use xlink:href=\"#DejaVuSans-2e\" x=\"63.623047\"/>\n       <use xlink:href=\"#DejaVuSans-30\" x=\"95.410156\"/>\n      </g>\n     </g>\n    </g>\n    <g id=\"ytick_4\">\n     <g id=\"line2d_9\">\n      <g>\n       <use xlink:href=\"#md78ddd1f3c\" x=\"30.103125\" y=\"121.097143\" style=\"stroke: #000000; stroke-width: 0.8\"/>\n      </g>\n     </g>\n     <g id=\"text_9\">\n      <!-- 1.5 -->\n      <g transform=\"translate(7.2 124.896362)scale(0.1 -0.1)\">\n       <use xlink:href=\"#DejaVuSans-31\"/>\n       <use xlink:href=\"#DejaVuSans-2e\" x=\"63.623047\"/>\n       <use xlink:href=\"#DejaVuSans-35\" x=\"95.410156\"/>\n      </g>\n     </g>\n    </g>\n    <g id=\"ytick_5\">\n     <g id=\"line2d_10\">\n      <g>\n       <use xlink:href=\"#md78ddd1f3c\" x=\"30.103125\" y=\"86.582857\" style=\"stroke: #000000; stroke-width: 0.8\"/>\n      </g>\n     </g>\n     <g id=\"text_10\">\n      <!-- 2.0 -->\n      <g transform=\"translate(7.2 90.382076)scale(0.1 -0.1)\">\n       <use xlink:href=\"#DejaVuSans-32\"/>\n       <use xlink:href=\"#DejaVuSans-2e\" x=\"63.623047\"/>\n       <use xlink:href=\"#DejaVuSans-30\" x=\"95.410156\"/>\n      </g>\n     </g>\n    </g>\n    <g id=\"ytick_6\">\n     <g id=\"line2d_11\">\n      <g>\n       <use xlink:href=\"#md78ddd1f3c\" x=\"30.103125\" y=\"52.068571\" style=\"stroke: #000000; stroke-width: 0.8\"/>\n      </g>\n     </g>\n     <g id=\"text_11\">\n      <!-- 2.5 -->\n      <g transform=\"translate(7.2 55.86779)scale(0.1 -0.1)\">\n       <use xlink:href=\"#DejaVuSans-32\"/>\n       <use xlink:href=\"#DejaVuSans-2e\" x=\"63.623047\"/>\n       <use xlink:href=\"#DejaVuSans-35\" x=\"95.410156\"/>\n      </g>\n     </g>\n    </g>\n    <g id=\"ytick_7\">\n     <g id=\"line2d_12\">\n      <g>\n       <use xlink:href=\"#md78ddd1f3c\" x=\"30.103125\" y=\"17.554286\" style=\"stroke: #000000; stroke-width: 0.8\"/>\n      </g>\n     </g>\n     <g id=\"text_12\">\n      <!-- 3.0 -->\n      <g transform=\"translate(7.2 21.353504)scale(0.1 -0.1)\">\n       <defs>\n        <path id=\"DejaVuSans-33\" d=\"M 2597 2516 \nQ 3050 2419 3304 2112 \nQ 3559 1806 3559 1356 \nQ 3559 666 3084 287 \nQ 2609 -91 1734 -91 \nQ 1441 -91 1130 -33 \nQ 819 25 488 141 \nL 488 750 \nQ 750 597 1062 519 \nQ 1375 441 1716 441 \nQ 2309 441 2620 675 \nQ 2931 909 2931 1356 \nQ 2931 1769 2642 2001 \nQ 2353 2234 1838 2234 \nL 1294 2234 \nL 1294 2753 \nL 1863 2753 \nQ 2328 2753 2575 2939 \nQ 2822 3125 2822 3475 \nQ 2822 3834 2567 4026 \nQ 2313 4219 1838 4219 \nQ 1578 4219 1281 4162 \nQ 984 4106 628 3988 \nL 628 4550 \nQ 988 4650 1302 4700 \nQ 1616 4750 1894 4750 \nQ 2613 4750 3031 4423 \nQ 3450 4097 3450 3541 \nQ 3450 3153 3228 2886 \nQ 3006 2619 2597 2516 \nz\n\" transform=\"scale(0.015625)\"/>\n       </defs>\n       <use xlink:href=\"#DejaVuSans-33\"/>\n       <use xlink:href=\"#DejaVuSans-2e\" x=\"63.623047\"/>\n       <use xlink:href=\"#DejaVuSans-30\" x=\"95.410156\"/>\n      </g>\n     </g>\n    </g>\n   </g>\n   <g id=\"line2d_13\">\n    <path d=\"M 58.393758 224.64 \nL 58.393758 7.2 \n\" clip-path=\"url(#pe396ae308c)\" style=\"fill: none; stroke: #ff0000; stroke-width: 1.5; stroke-linecap: square\"/>\n   </g>\n   <g id=\"line2d_14\">\n    <path d=\"M 176.706044 224.64 \nL 176.706044 7.2 \n\" clip-path=\"url(#pe396ae308c)\" style=\"fill: none; stroke: #ff0000; stroke-width: 1.5; stroke-linecap: square\"/>\n   </g>\n   <g id=\"patch_103\">\n    <path d=\"M 30.103125 224.64 \nL 30.103125 7.2 \n\" style=\"fill: none; stroke: #000000; stroke-width: 0.8; stroke-linejoin: miter; stroke-linecap: square\"/>\n   </g>\n   <g id=\"patch_104\">\n    <path d=\"M 364.903125 224.64 \nL 364.903125 7.2 \n\" style=\"fill: none; stroke: #000000; stroke-width: 0.8; stroke-linejoin: miter; stroke-linecap: square\"/>\n   </g>\n   <g id=\"patch_105\">\n    <path d=\"M 30.103125 224.64 \nL 364.903125 224.64 \n\" style=\"fill: none; stroke: #000000; stroke-width: 0.8; stroke-linejoin: miter; stroke-linecap: square\"/>\n   </g>\n   <g id=\"patch_106\">\n    <path d=\"M 30.103125 7.2 \nL 364.903125 7.2 \n\" style=\"fill: none; stroke: #000000; stroke-width: 0.8; stroke-linejoin: miter; stroke-linecap: square\"/>\n   </g>\n  </g>\n </g>\n <defs>\n  <clipPath id=\"pe396ae308c\">\n   <rect x=\"30.103125\" y=\"7.2\" width=\"334.8\" height=\"217.44\"/>\n  </clipPath>\n </defs>\n</svg>\n",
      "text/plain": [
       "<Figure size 432x288 with 1 Axes>"
      ]
     },
     "metadata": {
      "needs_background": "light"
     },
     "output_type": "display_data"
    }
   ],
   "source": [
    "# print the length of all the tokenized documents as a histogram\n",
    "data = [len(x[\"input_ids\"][0]) for x in tokenized_long_dataset['train']]\n",
    "plot = plt.pyplot.hist(data, bins=100)\n",
    "\n",
    "# plot vertical line at 512\n",
    "plt.pyplot.axvline(x=512, color='r', linestyle='-')\n",
    "plt.pyplot.axvline(x=4096, color='r', linestyle='-')\n",
    "\n",
    "print(f\"Average length: {np.mean(data)}\")\n",
    "print(f\"Median length: {np.median(data)}\")\n",
    "print(f\"Max length: {np.max(data)}\")\n",
    "print(f\"Min length: {np.min(data)}\")"
   ]
  },
  {
   "cell_type": "code",
   "execution_count": 9,
   "metadata": {},
   "outputs": [
    {
     "name": "stdout",
     "output_type": "stream",
     "text": [
      "Number of documents with less than 512 tokens: 4\n",
      "Document length: 141\n",
      "Privacy Statement We allow third-party companies to serve ads and/or collect certain anonymous information when you visit our web site. These companies may use non-personally identifiable information (e.g., click stream information, browser type, time and date, subject of advertisements clicked or scrolled over) during your visits to this and other Web sites in order to provide advertisements about goods and services likely to be of greater interest to you. These companies typically use a cookie or third party web beacon to collect this information. To learn more about this behavioral advertising practice or to opt-out of this type of advertising, you can visit networkadvertising.org.\n",
      "Document length: 294\n",
      "Google Adsense and the DoubleClick DART Cookie Google, as a third party advertisement vendor, uses cookies to serve ads on this site. The use of DART cookies by Google enables them to serve adverts to visitors that are based on their visits to this website as well as other sites on the internet.\n",
      "To opt out of the DART cookies you may visit the Google ad and content network privacy policy at the following url http://www.google.com/privacy_ads.html Tracking of users through the DART cookie mechanisms are subject to Google's own privacy policies.\n",
      "Other Third Party ad servers or ad networks may also use cookies to track users activities on this website to measure advertisement effectiveness and other reasons that will be provided in their own privacy policies, RestaurantNews.com has no access or control over these cookies that may be used by third party advertisers.\n",
      "Collection of Personal Information When visiting RestaurantNews.com, the IP address used to access the site will be logged along with the dates and times of access. This information is purely used to analyze trends, administer the site, track users movement and gather broad demographic information for internal use. Most importantly, any recorded IP addresses are not linked to personally identifiable information.\n",
      "Changes to this Privacy Statement The contents of this statement may be altered at any time, at our discretion.\n",
      "Document length: 116\n",
      "TangerOutlets is committed to keeping your personal information confidential. Any and all personal identifiable information collected from our customers is used by Tanger Outlets only, and is not sold, shared or distributed to any third party.\n",
      "If at any time you want your email information removed from our database, simply utilize the unsubscribe link provided in your email. Any other data updates or removal requests can be sent to TangerOutlets, Attn: Marketing Department, PO Box 10889, Greensboro, NC 27408.\n",
      "Document length: 229\n",
      "Typically, we do not use cookies to collect information on the UH Central Web server (www.uh.edu). However, the following applications do use cookies to store user login information which is intended to make the application more user-friendly: IT Forum WebCT\n",
      "If you send us an electronic mail message with a question or comment that contains personally identifying information, or fill out a form that sends us this information, we will only use the personally-identifiable information to respond to your request and analyze trends. We may redirect your message to another government agency or person who is in a better position to answer your question.\n",
      "For site management functions, information is collected for analysis and statistical purposes. This information is not reported or used in any manner that would reveal personally identifiable information, and will not be released to any outside parties unless legally required to do so in connection with law enforcement investigations or other legal proceedings.\n",
      "We use log analysis tools to create summary statistics, which are used for purposes such as assessing what information is of most interest, determining technical design specifications, and identifying system performance or problem areas.\n"
     ]
    }
   ],
   "source": [
    "short_documents = [x for x in tokenized_long_dataset['train'] if len(x[\"input_ids\"][0]) <= 512]\n",
    "print(f\"Number of documents with less than 512 tokens: {len(short_documents)}\")\n",
    "for doc in short_documents:\n",
    "    print(f\"Document length: {len(doc['input_ids'][0])}\")\n",
    "    print(doc['paragraphs'][0]['context'])\n"
   ]
  },
  {
   "cell_type": "code",
   "execution_count": 12,
   "metadata": {},
   "outputs": [
    {
     "data": {
      "text/plain": [
       "{'score': 0.9720897078514099,\n",
       " 'start': 16,\n",
       " 'end': 32,\n",
       " 'answer': 'democratized NLP'}"
      ]
     },
     "execution_count": 12,
     "metadata": {},
     "output_type": "execute_result"
    }
   ],
   "source": [
    "ckpt = \"mrm8488/longformer-base-4096-finetuned-squadv2\"\n",
    "tokenizer = transformers.AutoTokenizer.from_pretrained(ckpt)\n",
    "model = transformers.AutoModelForQuestionAnswering.from_pretrained(ckpt)\n",
    "\n",
    "qa = transformers.pipeline(\"question-answering\", model=model, tokenizer=tokenizer)\n",
    "\n",
    "text = \"Huggingface has democratized NLP. Huge thanks to Huggingface for this.\"\n",
    "question = \"What has Huggingface done?\"\n",
    "\n",
    "qa({\"question\": question, \"context\": text})\n"
   ]
  },
  {
   "cell_type": "code",
   "execution_count": 22,
   "metadata": {},
   "outputs": [
    {
     "name": "stderr",
     "output_type": "stream",
     "text": [
      "Reusing dataset squad (/home/liam/.cache/huggingface/datasets/squad/plain_text/1.0.0/d6ec3ceb99ca480ce37cdd35555d6cb2511d223b9150cce08a837ef62ffea453)\n",
      "100%|██████████| 11/11 [00:00<00:00, 42.89ba/s]\n",
      "`squad_v2_format` parameter not provided to QuestionAnsweringEvaluator.compute(). Automatically inferred `squad_v2_format` as False.\n"
     ]
    },
    {
     "name": "stdout",
     "output_type": "stream",
     "text": [
      "huggingface/tokenizers: The current process just got forked, after parallelism has already been used. Disabling parallelism to avoid deadlocks...\n",
      "To disable this warning, you can either:\n",
      "\t- Avoid using `tokenizers` before the fork if possible\n",
      "\t- Explicitly set the environment variable TOKENIZERS_PARALLELISM=(true | false)\n",
      "huggingface/tokenizers: The current process just got forked, after parallelism has already been used. Disabling parallelism to avoid deadlocks...\n",
      "To disable this warning, you can either:\n",
      "\t- Avoid using `tokenizers` before the fork if possible\n",
      "\t- Explicitly set the environment variable TOKENIZERS_PARALLELISM=(true | false)\n",
      "huggingface/tokenizers: The current process just got forked, after parallelism has already been used. Disabling parallelism to avoid deadlocks...\n",
      "To disable this warning, you can either:\n",
      "\t- Avoid using `tokenizers` before the fork if possible\n",
      "\t- Explicitly set the environment variable TOKENIZERS_PARALLELISM=(true | false)\n",
      "huggingface/tokenizers: The current process just got forked, after parallelism has already been used. Disabling parallelism to avoid deadlocks...\n",
      "To disable this warning, you can either:\n",
      "\t- Avoid using `tokenizers` before the fork if possible\n",
      "\t- Explicitly set the environment variable TOKENIZERS_PARALLELISM=(true | false)\n",
      "huggingface/tokenizers: The current process just got forked, after parallelism has already been used. Disabling parallelism to avoid deadlocks...\n",
      "To disable this warning, you can either:\n",
      "\t- Avoid using `tokenizers` before the fork if possible\n",
      "\t- Explicitly set the environment variable TOKENIZERS_PARALLELISM=(true | false)\n",
      "huggingface/tokenizers: The current process just got forked, after parallelism has already been used. Disabling parallelism to avoid deadlocks...\n",
      "To disable this warning, you can either:\n",
      "\t- Avoid using `tokenizers` before the fork if possible\n",
      "\t- Explicitly set the environment variable TOKENIZERS_PARALLELISM=(true | false)\n",
      "huggingface/tokenizers: The current process just got forked, after parallelism has already been used. Disabling parallelism to avoid deadlocks...\n",
      "To disable this warning, you can either:\n",
      "\t- Avoid using `tokenizers` before the fork if possible\n",
      "\t- Explicitly set the environment variable TOKENIZERS_PARALLELISM=(true | false)\n",
      "huggingface/tokenizers: The current process just got forked, after parallelism has already been used. Disabling parallelism to avoid deadlocks...\n",
      "To disable this warning, you can either:\n",
      "\t- Avoid using `tokenizers` before the fork if possible\n",
      "\t- Explicitly set the environment variable TOKENIZERS_PARALLELISM=(true | false)\n"
     ]
    }
   ],
   "source": [
    "data = datasets.load_dataset('squad', split='validation')\n",
    "squad_metric = evaluate.load(\"squad\")\n",
    "task_evaluator = evaluate.evaluator(\"question-answering\")\n",
    "eval_results = task_evaluator.compute(\n",
    "    model_or_pipeline=qa,\n",
    "    data=data\n",
    ")\n",
    "eval_results"
   ]
  }
 ],
 "metadata": {
  "kernelspec": {
   "display_name": "Python 3.10.6 64-bit",
   "language": "python",
   "name": "python3"
  },
  "language_info": {
   "codemirror_mode": {
    "name": "ipython",
    "version": 3
   },
   "file_extension": ".py",
   "mimetype": "text/x-python",
   "name": "python",
   "nbconvert_exporter": "python",
   "pygments_lexer": "ipython3",
   "version": "3.10.7"
  },
  "orig_nbformat": 4,
  "vscode": {
   "interpreter": {
    "hash": "e7370f93d1d0cde622a1f8e1c04877d8463912d04d973331ad4851f04de6915a"
   }
  }
 },
 "nbformat": 4,
 "nbformat_minor": 2
}
